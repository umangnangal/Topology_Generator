{
 "cells": [
  {
   "cell_type": "code",
   "execution_count": 1,
   "metadata": {},
   "outputs": [
    {
     "name": "stdout",
     "output_type": "stream",
     "text": [
      "    Management IP   Password\n",
      "0   10.127.119.83   nbv_3124\n",
      "1  10.127.119.103   nbv_3124\n",
      "2   10.127.119.84   nbv_3124\n",
      "3   10.127.119.98   nbv_3124\n",
      "4  10.127.125.228  nbv_12345\n"
     ]
    }
   ],
   "source": [
    "from sapphire import *"
   ]
  },
  {
   "cell_type": "code",
   "execution_count": 2,
   "metadata": {},
   "outputs": [
    {
     "name": "stdout",
     "output_type": "stream",
     "text": [
      "Paramiko client created successfully :  <paramiko.client.SSHClient object at 0x7fdfa08a44c0>\n",
      "Switch object created with paramiko client in-built.\n"
     ]
    }
   ],
   "source": [
    "mgmt_ip = '10.127.190.136'\n",
    "password = 'nbv_12345'\n",
    "\n",
    "mgmt_ip = '10.127.125.228'\n",
    "password = 'nbv_12345'\n",
    "\n",
    "mgmt_ip = '10.127.119.98'\n",
    "password = 'nbv_3124'\n",
    "\n",
    "mgmt_ip = '172.25.169.24'\n",
    "password = 'nbv_12345'\n",
    "\n",
    "mgmt_ip = '10.197.155.82'\n",
    "password = 'n'\n",
    "\n",
    "\n",
    "\n",
    "\n",
    "mgmt_ip = '10.127.190.134'\n",
    "\n",
    "mgmt_ip = '10.127.190.138'\n",
    "\n",
    "mgmt_ip = '10.127.125.219'\n",
    "\n",
    "\n",
    "password = 'nbv_12345'\n",
    "\n",
    "switch = Switch(mgmt_ip, password)\n",
    "\n",
    "#vsan = int(input('Please enter the VSAN of interest : '))\n",
    "vsan = 1000"
   ]
  },
  {
   "cell_type": "code",
   "execution_count": 3,
   "metadata": {},
   "outputs": [
    {
     "data": {
      "text/plain": [
       "<sapphire.Switch at 0x7fdfa08a4490>"
      ]
     },
     "execution_count": 3,
     "metadata": {},
     "output_type": "execute_result"
    }
   ],
   "source": [
    "switch"
   ]
  },
  {
   "cell_type": "code",
   "execution_count": 4,
   "metadata": {},
   "outputs": [
    {
     "name": "stdout",
     "output_type": "stream",
     "text": [
      "Fabric object initialized\n"
     ]
    }
   ],
   "source": [
    "fabric = Fabric(switch)"
   ]
  },
  {
   "cell_type": "code",
   "execution_count": 5,
   "metadata": {},
   "outputs": [
    {
     "name": "stdout",
     "output_type": "stream",
     "text": [
      "PEER IP = 10.127.125.216 SWITCHNAME = N9k-core-DUT1\n",
      "Password fetched from provided file.\n",
      "Paramiko client created successfully :  <paramiko.client.SSHClient object at 0x7fdfa083af70>\n",
      "Switch object created with paramiko client in-built.\n",
      "Device succeesfully added to Fabric.\n",
      "PEER IP = 10.127.125.217 SWITCHNAME = Yushan-core-DUT1\n",
      "Password fetched from provided file.\n",
      "Paramiko client created successfully :  <paramiko.client.SSHClient object at 0x7fdfa0910820>\n",
      "Switch object created with paramiko client in-built.\n",
      "Device succeesfully added to Fabric.\n",
      "PEER IP = 10.127.125.218 SWITCHNAME = Yushan-core2-DUT1\n",
      "Password fetched from provided file.\n",
      "Paramiko client created successfully :  <paramiko.client.SSHClient object at 0x7fdfa09315b0>\n",
      "Switch object created with paramiko client in-built.\n",
      "Device succeesfully added to Fabric.\n",
      "PEER IP = 10.127.125.237 SWITCHNAME = N9k-StArch-Core1\n",
      "Password fetched from provided file.\n",
      "Paramiko client created successfully :  <paramiko.client.SSHClient object at 0x7fdfa0931670>\n",
      "Switch object created with paramiko client in-built.\n",
      "Device succeesfully added to Fabric.\n",
      "PEER IP = 10.127.125.183 SWITCHNAME = Steller_Core1\n",
      "Please enter device password : nbv_12345\n",
      "Paramiko client created successfully :  <paramiko.client.SSHClient object at 0x7fdfa094b490>\n",
      "Switch object created with paramiko client in-built.\n",
      "Device succeesfully added to Fabric.\n",
      "PEER IP = 10.127.125.215 SWITCHNAME = N9k-HOMEWOOD-DUT1\n",
      "Password fetched from provided file.\n",
      "Paramiko client created successfully :  <paramiko.client.SSHClient object at 0x7fdfa0910b50>\n",
      "Switch object created with paramiko client in-built.\n",
      "Device succeesfully added to Fabric.\n",
      "PEER IP = 10.127.125.219 SWITCHNAME = N9k-Edge1-DUT1\n",
      "Password fetched from provided file.\n",
      "Paramiko client created successfully :  <paramiko.client.SSHClient object at 0x7fdfa09b2100>\n",
      "Switch object created with paramiko client in-built.\n",
      "Device already present in the Fabric.\n",
      "Getting value error, hence skipping this iteration\n",
      "Getting value error, hence skipping this iteration\n",
      "Getting value error, hence skipping this iteration\n",
      "PEER IP = 10.127.125.236 SWITCHNAME = N9k-StArcher-DUT1\n",
      "Password fetched from provided file.\n",
      "Paramiko client created successfully :  <paramiko.client.SSHClient object at 0x7fdfa09d1ac0>\n",
      "Switch object created with paramiko client in-built.\n",
      "Device succeesfully added to Fabric.\n",
      "Getting value error, hence skipping this iteration\n",
      "PEER IP = 10.127.125.184 SWITCHNAME = Steller-Edge1\n",
      "Please enter device password : nbv_12345\n",
      "Paramiko client created successfully :  <paramiko.client.SSHClient object at 0x7fdfa09ada30>\n",
      "Switch object created with paramiko client in-built.\n",
      "Device succeesfully added to Fabric.\n",
      "PEER IP = 10.127.125.215 SWITCHNAME = N9k-HOMEWOOD-DUT1\n",
      "Password fetched from provided file.\n",
      "Paramiko client created successfully :  <paramiko.client.SSHClient object at 0x7fdfa0931340>\n",
      "Switch object created with paramiko client in-built.\n",
      "Device already present in the Fabric.\n",
      "PEER IP = 10.127.125.219 SWITCHNAME = N9k-Edge1-DUT1\n",
      "Password fetched from provided file.\n",
      "Paramiko client created successfully :  <paramiko.client.SSHClient object at 0x7fdfa0c14130>\n",
      "Switch object created with paramiko client in-built.\n",
      "Device already present in the Fabric.\n",
      "PEER IP = 10.127.125.221 SWITCHNAME = Yush-mini-Edge1-DUT1\n",
      "Password fetched from provided file.\n",
      "Paramiko client created successfully :  <paramiko.client.SSHClient object at 0x7fdfa09bbbb0>\n",
      "Switch object created with paramiko client in-built.\n",
      "Device succeesfully added to Fabric.\n",
      "PEER IP = 10.127.125.222 SWITCHNAME = Yush-mini-Edge2-DUT1\n",
      "Password fetched from provided file.\n",
      "Paramiko client created successfully :  <paramiko.client.SSHClient object at 0x7fdfa0c0f8e0>\n",
      "Switch object created with paramiko client in-built.\n",
      "Device succeesfully added to Fabric.\n",
      "PEER IP = 10.127.125.220 SWITCHNAME = Yush-mini-Edge3-DUT1\n",
      "Password fetched from provided file.\n",
      "Paramiko client created successfully :  <paramiko.client.SSHClient object at 0x7fdfa0c215b0>\n",
      "Switch object created with paramiko client in-built.\n",
      "Device succeesfully added to Fabric.\n",
      "PEER IP = 10.127.125.236 SWITCHNAME = N9k-StArcher-DUT1\n",
      "Password fetched from provided file.\n",
      "Paramiko client created successfully :  <paramiko.client.SSHClient object at 0x7fdfa0c58f70>\n",
      "Switch object created with paramiko client in-built.\n",
      "Device already present in the Fabric.\n",
      "PEER IP = 10.127.125.238 SWITCHNAME = N9k-StArch-Edge1-DUT1\n",
      "Password fetched from provided file.\n",
      "Paramiko client created successfully :  <paramiko.client.SSHClient object at 0x7fdfa0c78460>\n",
      "Switch object created with paramiko client in-built.\n",
      "Device succeesfully added to Fabric.\n",
      "Getting value error, hence skipping this iteration\n",
      "PEER IP = 10.127.125.215 SWITCHNAME = N9k-HOMEWOOD-DUT1\n",
      "Password fetched from provided file.\n",
      "Paramiko client created successfully :  <paramiko.client.SSHClient object at 0x7fdfa094b7c0>\n",
      "Switch object created with paramiko client in-built.\n",
      "Device already present in the Fabric.\n",
      "PEER IP = 10.127.125.219 SWITCHNAME = N9k-Edge1-DUT1\n",
      "Password fetched from provided file.\n",
      "Paramiko client created successfully :  <paramiko.client.SSHClient object at 0x7fdfa0c9f370>\n",
      "Switch object created with paramiko client in-built.\n",
      "Device already present in the Fabric.\n",
      "PEER IP = 10.127.125.221 SWITCHNAME = Yush-mini-Edge1-DUT1\n",
      "Password fetched from provided file.\n",
      "Paramiko client created successfully :  <paramiko.client.SSHClient object at 0x7fdfa0c812b0>\n",
      "Switch object created with paramiko client in-built.\n",
      "Device already present in the Fabric.\n",
      "PEER IP = 10.127.125.222 SWITCHNAME = Yush-mini-Edge2-DUT1\n",
      "Password fetched from provided file.\n",
      "Paramiko client created successfully :  <paramiko.client.SSHClient object at 0x7fdfa0c60d30>\n",
      "Switch object created with paramiko client in-built.\n",
      "Device already present in the Fabric.\n",
      "PEER IP = 10.127.125.220 SWITCHNAME = Yush-mini-Edge3-DUT1\n",
      "Password fetched from provided file.\n",
      "Paramiko client created successfully :  <paramiko.client.SSHClient object at 0x7fdfa09689a0>\n",
      "Switch object created with paramiko client in-built.\n",
      "Device already present in the Fabric.\n",
      "PEER IP = 10.127.125.236 SWITCHNAME = N9k-StArcher-DUT1\n",
      "Password fetched from provided file.\n",
      "Paramiko client created successfully :  <paramiko.client.SSHClient object at 0x7fdfa0c64130>\n",
      "Switch object created with paramiko client in-built.\n",
      "Device already present in the Fabric.\n",
      "PEER IP = 10.127.125.238 SWITCHNAME = N9k-StArch-Edge1-DUT1\n",
      "Password fetched from provided file.\n",
      "Paramiko client created successfully :  <paramiko.client.SSHClient object at 0x7fdfa0c926d0>\n",
      "Switch object created with paramiko client in-built.\n",
      "Device already present in the Fabric.\n",
      "PEER IP = 10.127.125.236 SWITCHNAME = N9k-StArcher-DUT1\n",
      "Password fetched from provided file.\n",
      "Paramiko client created successfully :  <paramiko.client.SSHClient object at 0x7fdfa07eec70>\n",
      "Switch object created with paramiko client in-built.\n",
      "Device already present in the Fabric.\n",
      "Getting value error, hence skipping this iteration\n",
      "Getting value error, hence skipping this iteration\n",
      "Getting value error, hence skipping this iteration\n",
      "PEER IP = 10.127.125.219 SWITCHNAME = N9k-Edge1-DUT1\n",
      "Password fetched from provided file.\n",
      "Paramiko client created successfully :  <paramiko.client.SSHClient object at 0x7fdfa0c9c280>\n",
      "Switch object created with paramiko client in-built.\n",
      "Device already present in the Fabric.\n",
      "PEER IP = 10.127.125.184 SWITCHNAME = Steller-Edge1\n",
      "Please enter device password : nbv_12345\n",
      "Paramiko client created successfully :  <paramiko.client.SSHClient object at 0x7fdfa0cd04f0>\n",
      "Switch object created with paramiko client in-built.\n",
      "Device already present in the Fabric.\n",
      "Getting value error, hence skipping this iteration\n",
      "Getting value error, hence skipping this iteration\n",
      "Getting value error, hence skipping this iteration\n",
      "PEER IP = 10.127.125.215 SWITCHNAME = N9k-HOMEWOOD-DUT1\n",
      "Password fetched from provided file.\n",
      "Paramiko client created successfully :  <paramiko.client.SSHClient object at 0x7fdfa0ca5cd0>\n",
      "Switch object created with paramiko client in-built.\n",
      "Device already present in the Fabric.\n",
      "PEER IP = 10.127.125.219 SWITCHNAME = N9k-Edge1-DUT1\n",
      "Password fetched from provided file.\n",
      "Paramiko client created successfully :  <paramiko.client.SSHClient object at 0x7fdf9cf603a0>\n"
     ]
    },
    {
     "name": "stdout",
     "output_type": "stream",
     "text": [
      "Switch object created with paramiko client in-built.\n",
      "Device already present in the Fabric.\n",
      "PEER IP = 10.127.125.236 SWITCHNAME = N9k-StArcher-DUT1\n",
      "Password fetched from provided file.\n",
      "Paramiko client created successfully :  <paramiko.client.SSHClient object at 0x7fdfa0cb6d00>\n",
      "Switch object created with paramiko client in-built.\n",
      "Device already present in the Fabric.\n",
      "Getting value error, hence skipping this iteration\n",
      "PEER IP = 10.127.125.184 SWITCHNAME = Steller-Edge1\n",
      "Please enter device password : nbv_12345\n",
      "Paramiko client created successfully :  <paramiko.client.SSHClient object at 0x7fdf9cf603a0>\n",
      "Switch object created with paramiko client in-built.\n",
      "Device already present in the Fabric.\n",
      "PEER IP = 10.127.125.184 SWITCHNAME = Steller-Edge1\n",
      "Please enter device password : nbv_12345\n",
      "Paramiko client created successfully :  <paramiko.client.SSHClient object at 0x7fdfa0c2adf0>\n",
      "Switch object created with paramiko client in-built.\n",
      "Device already present in the Fabric.\n",
      "PEER IP = 10.127.125.216 SWITCHNAME = N9k-core-DUT1\n",
      "Password fetched from provided file.\n",
      "Paramiko client created successfully :  <paramiko.client.SSHClient object at 0x7fdfa09b1f10>\n",
      "Switch object created with paramiko client in-built.\n",
      "Device already present in the Fabric.\n",
      "PEER IP = 10.127.125.217 SWITCHNAME = Yushan-core-DUT1\n",
      "Password fetched from provided file.\n",
      "Paramiko client created successfully :  <paramiko.client.SSHClient object at 0x7fdfa0c87d00>\n",
      "Switch object created with paramiko client in-built.\n",
      "Device already present in the Fabric.\n",
      "PEER IP = 10.127.125.218 SWITCHNAME = Yushan-core2-DUT1\n",
      "Password fetched from provided file.\n",
      "Paramiko client created successfully :  <paramiko.client.SSHClient object at 0x7fdfa0ce5730>\n",
      "Switch object created with paramiko client in-built.\n",
      "Device already present in the Fabric.\n",
      "PEER IP = 10.127.125.183 SWITCHNAME = Steller_Core1\n",
      "Please enter device password : nbv_12345\n",
      "Paramiko client created successfully :  <paramiko.client.SSHClient object at 0x7fdf9cf91280>\n",
      "Switch object created with paramiko client in-built.\n",
      "Device already present in the Fabric.\n",
      "PEER IP = 10.127.125.237 SWITCHNAME = N9k-StArch-Core1\n",
      "Password fetched from provided file.\n",
      "Paramiko client created successfully :  <paramiko.client.SSHClient object at 0x7fdfa09edc40>\n",
      "Switch object created with paramiko client in-built.\n",
      "Device already present in the Fabric.\n",
      "PEER IP = 10.127.125.216 SWITCHNAME = N9k-core-DUT1\n",
      "Password fetched from provided file.\n",
      "Paramiko client created successfully :  <paramiko.client.SSHClient object at 0x7fdfa0c8f9a0>\n",
      "Switch object created with paramiko client in-built.\n",
      "Device already present in the Fabric.\n",
      "PEER IP = 10.127.125.217 SWITCHNAME = Yushan-core-DUT1\n",
      "Password fetched from provided file.\n",
      "Paramiko client created successfully :  <paramiko.client.SSHClient object at 0x7fdfa0cb4d00>\n",
      "Switch object created with paramiko client in-built.\n",
      "Device already present in the Fabric.\n",
      "PEER IP = 10.127.125.218 SWITCHNAME = Yushan-core2-DUT1\n",
      "Password fetched from provided file.\n",
      "Paramiko client created successfully :  <paramiko.client.SSHClient object at 0x7fdfa0c8feb0>\n",
      "Switch object created with paramiko client in-built.\n",
      "Device already present in the Fabric.\n",
      "PEER IP = 10.127.125.183 SWITCHNAME = Steller_Core1\n",
      "Please enter device password : nbv_12345\n",
      "Paramiko client created successfully :  <paramiko.client.SSHClient object at 0x7fdfa0cef580>\n",
      "Switch object created with paramiko client in-built.\n",
      "Device already present in the Fabric.\n",
      "PEER IP = 10.127.125.183 SWITCHNAME = Steller_Core1\n",
      "Please enter device password : nbv_12345\n",
      "Paramiko client created successfully :  <paramiko.client.SSHClient object at 0x7fdfa082ba30>\n",
      "Switch object created with paramiko client in-built.\n",
      "Device already present in the Fabric.\n",
      "PEER IP = 10.127.125.216 SWITCHNAME = N9k-core-DUT1\n",
      "Password fetched from provided file.\n",
      "Paramiko client created successfully :  <paramiko.client.SSHClient object at 0x7fdfa0e172e0>\n",
      "Switch object created with paramiko client in-built.\n",
      "Device already present in the Fabric.\n",
      "PEER IP = 10.127.125.217 SWITCHNAME = Yushan-core-DUT1\n",
      "Password fetched from provided file.\n",
      "Paramiko client created successfully :  <paramiko.client.SSHClient object at 0x7fdfa0cd5bb0>\n",
      "Switch object created with paramiko client in-built.\n",
      "Device already present in the Fabric.\n",
      "PEER IP = 10.127.125.183 SWITCHNAME = Steller_Core1\n",
      "Please enter device password : nbv_12345\n",
      "Paramiko client created successfully :  <paramiko.client.SSHClient object at 0x7fdfa0e2a490>\n",
      "Switch object created with paramiko client in-built.\n",
      "Device already present in the Fabric.\n",
      "PEER IP = 10.127.125.183 SWITCHNAME = Steller_Core1\n",
      "Please enter device password : nbv_12345\n",
      "Paramiko client created successfully :  <paramiko.client.SSHClient object at 0x7fdfa0cb6d00>\n",
      "Switch object created with paramiko client in-built.\n",
      "Device already present in the Fabric.\n",
      "PEER IP = 10.127.125.216 SWITCHNAME = N9k-core-DUT1\n",
      "Password fetched from provided file.\n",
      "Paramiko client created successfully :  <paramiko.client.SSHClient object at 0x7fdfa0c37b20>\n",
      "Switch object created with paramiko client in-built.\n",
      "Device already present in the Fabric.\n",
      "PEER IP = 10.127.125.217 SWITCHNAME = Yushan-core-DUT1\n",
      "Password fetched from provided file.\n",
      "Paramiko client created successfully :  <paramiko.client.SSHClient object at 0x7fdfa0968a00>\n",
      "Switch object created with paramiko client in-built.\n",
      "Device already present in the Fabric.\n",
      "PEER IP = 10.127.125.218 SWITCHNAME = Yushan-core2-DUT1\n",
      "Password fetched from provided file.\n",
      "Paramiko client created successfully :  <paramiko.client.SSHClient object at 0x7fdfa0e11d60>\n",
      "Switch object created with paramiko client in-built.\n",
      "Device already present in the Fabric.\n",
      "PEER IP = 10.127.125.237 SWITCHNAME = N9k-StArch-Core1\n",
      "Password fetched from provided file.\n",
      "Paramiko client created successfully :  <paramiko.client.SSHClient object at 0x7fdfa0ce5df0>\n",
      "Switch object created with paramiko client in-built.\n",
      "Device already present in the Fabric.\n",
      "Getting value error, hence skipping this iteration\n",
      "PEER IP = 10.127.125.216 SWITCHNAME = N9k-core-DUT1\n",
      "Password fetched from provided file.\n",
      "Paramiko client created successfully :  <paramiko.client.SSHClient object at 0x7fdfa0c21250>\n",
      "Switch object created with paramiko client in-built.\n",
      "Device already present in the Fabric.\n",
      "PEER IP = 10.127.125.217 SWITCHNAME = Yushan-core-DUT1\n",
      "Password fetched from provided file.\n",
      "Paramiko client created successfully :  <paramiko.client.SSHClient object at 0x7fdfa0968a00>\n",
      "Switch object created with paramiko client in-built.\n",
      "Device already present in the Fabric.\n",
      "PEER IP = 10.127.125.218 SWITCHNAME = Yushan-core2-DUT1\n",
      "Password fetched from provided file.\n",
      "Paramiko client created successfully :  <paramiko.client.SSHClient object at 0x7fdfa0e31f70>\n",
      "Switch object created with paramiko client in-built.\n",
      "Device already present in the Fabric.\n",
      "PEER IP = 10.127.125.237 SWITCHNAME = N9k-StArch-Core1\n",
      "Password fetched from provided file.\n",
      "Paramiko client created successfully :  <paramiko.client.SSHClient object at 0x7fdfa0c4a160>\n",
      "Switch object created with paramiko client in-built.\n",
      "Device already present in the Fabric.\n",
      "Getting value error, hence skipping this iteration\n",
      "PEER IP = 10.127.125.216 SWITCHNAME = N9k-core-DUT1\n",
      "Password fetched from provided file.\n",
      "Paramiko client created successfully :  <paramiko.client.SSHClient object at 0x7fdfa0c58c40>\n",
      "Switch object created with paramiko client in-built.\n",
      "Device already present in the Fabric.\n",
      "PEER IP = 10.127.125.217 SWITCHNAME = Yushan-core-DUT1\n",
      "Password fetched from provided file.\n",
      "Paramiko client created successfully :  <paramiko.client.SSHClient object at 0x7fdfa0cd0a90>\n",
      "Switch object created with paramiko client in-built.\n",
      "Device already present in the Fabric.\n",
      "PEER IP = 10.127.125.218 SWITCHNAME = Yushan-core2-DUT1\n",
      "Password fetched from provided file.\n",
      "Paramiko client created successfully :  <paramiko.client.SSHClient object at 0x7fdfa0e4cd90>\n",
      "Switch object created with paramiko client in-built.\n",
      "Device already present in the Fabric.\n",
      "Getting value error, hence skipping this iteration\n",
      "PEER IP = 10.127.125.237 SWITCHNAME = N9k-StArch-Core1\n",
      "Password fetched from provided file.\n",
      "Paramiko client created successfully :  <paramiko.client.SSHClient object at 0x7fdfa0cdcf70>\n"
     ]
    },
    {
     "name": "stdout",
     "output_type": "stream",
     "text": [
      "Switch object created with paramiko client in-built.\n",
      "Device already present in the Fabric.\n",
      "PEER IP = 10.127.125.216 SWITCHNAME = N9k-core-DUT1\n",
      "Password fetched from provided file.\n",
      "Paramiko client created successfully :  <paramiko.client.SSHClient object at 0x7fdfa0973f70>\n",
      "Switch object created with paramiko client in-built.\n",
      "Device already present in the Fabric.\n",
      "PEER IP = 10.127.125.217 SWITCHNAME = Yushan-core-DUT1\n",
      "Password fetched from provided file.\n",
      "Paramiko client created successfully :  <paramiko.client.SSHClient object at 0x7fdfa09b1ca0>\n",
      "Switch object created with paramiko client in-built.\n",
      "Device already present in the Fabric.\n",
      "PEER IP = 10.127.125.218 SWITCHNAME = Yushan-core2-DUT1\n",
      "Password fetched from provided file.\n",
      "Paramiko client created successfully :  <paramiko.client.SSHClient object at 0x7fdfa0973df0>\n",
      "Switch object created with paramiko client in-built.\n",
      "Device already present in the Fabric.\n",
      "PEER IP = 10.127.125.183 SWITCHNAME = Steller_Core1\n",
      "Please enter device password : nbv_12345\n",
      "Paramiko client created successfully :  <paramiko.client.SSHClient object at 0x7fdfa0c21460>\n",
      "Switch object created with paramiko client in-built.\n",
      "Device already present in the Fabric.\n"
     ]
    }
   ],
   "source": [
    "fabric.search_devices(vsan = vsan)"
   ]
  },
  {
   "cell_type": "code",
   "execution_count": 6,
   "metadata": {},
   "outputs": [
    {
     "name": "stdout",
     "output_type": "stream",
     "text": [
      "Switch Name :  N9k-Edge1-DUT1\n",
      "Management IP : 10.127.125.219 Password : nbv_12345\n",
      "Description :  \"Nexus9000 C93180YC-FX Chassis\"\n",
      "\n",
      "  Interface  VSAN      FCID                PORT NAME                NODE NAME\n",
      "0    fc1/31  1000  0x190160  50:06:01:64:49:e0:5b:95  50:06:01:60:c9:e0:5b:95\n",
      "None\n",
      "Switch Name :  N9k-core-DUT1\n",
      "Management IP : 10.127.125.216 Password : nbv_12345\n",
      "Description :  \"Nexus9000 C93180YC-FX Chassis\"\n",
      "\n",
      "Empty DataFrame\n",
      "Columns: [Interface, VSAN, FCID, PORT NAME, NODE NAME]\n",
      "Index: []\n",
      "None\n",
      "Switch Name :  Yushan-core-DUT1\n",
      "Management IP : 10.127.125.217 Password : nbv_12345\n",
      "Description :  \"MDS 9396T 96X32G FC (2 RU) Chassis\"\n",
      "\n",
      "Empty DataFrame\n",
      "Columns: [Interface, VSAN, FCID, PORT NAME, NODE NAME]\n",
      "Index: []\n",
      "None\n",
      "Switch Name :  Yushan-core2-DUT1\n",
      "Management IP : 10.127.125.218 Password : nbv_12345\n",
      "Description :  \"MDS 9396T 96X32G FC (2 RU) Chassis\"\n",
      "\n",
      "Empty DataFrame\n",
      "Columns: [Interface, VSAN, FCID, PORT NAME, NODE NAME]\n",
      "Index: []\n",
      "None\n",
      "Switch Name :  N9k-StArch-Core1\n",
      "Management IP : 10.127.125.237 Password : nbv_12345\n",
      "Description :  \"Nexus9000 C93360YC-FX2 Chassis\"\n",
      "\n",
      "Empty DataFrame\n",
      "Columns: [Interface, VSAN, FCID, PORT NAME, NODE NAME]\n",
      "Index: []\n",
      "None\n",
      "Switch Name :  Steller_Core1\n",
      "Management IP : 10.127.125.183 Password : nbv_12345\n",
      "Description :  \"Nexus9000 C9336C-FX2-E Chassis\"\n",
      "\n",
      "Empty DataFrame\n",
      "Columns: [Interface, VSAN, FCID, PORT NAME, NODE NAME]\n",
      "Index: []\n",
      "None\n",
      "Switch Name :  N9k-HOMEWOOD-DUT1\n",
      "Management IP : 10.127.125.215 Password : nbv_12345\n",
      "Description :  \"Nexus9000 C93180YC-FX Chassis\"\n",
      "\n",
      "Empty DataFrame\n",
      "Columns: [Interface, VSAN, FCID, PORT NAME, NODE NAME]\n",
      "Index: []\n",
      "None\n",
      "Switch Name :  N9k-StArcher-DUT1\n",
      "Management IP : 10.127.125.236 Password : nbv_12345\n",
      "Description :  \"Nexus9000 C93360YC-FX2 Chassis\"\n",
      "\n",
      "Empty DataFrame\n",
      "Columns: [Interface, VSAN, FCID, PORT NAME, NODE NAME]\n",
      "Index: []\n",
      "None\n",
      "Switch Name :  Steller-Edge1\n",
      "Management IP : 10.127.125.184 Password : nbv_12345\n",
      "Description :  \"Nexus9000 C9336C-FX2-E Chassis\"\n",
      "\n",
      "  Interface  VSAN      FCID                PORT NAME                NODE NAME\n",
      "0  fc1/17/1  1000  0x250000  50:06:01:67:49:e0:5b:95  50:06:01:60:c9:e0:5b:95\n",
      "1  fc1/17/2  1000  0x250020  50:06:01:63:49:e0:5b:95  50:06:01:60:c9:e0:5b:95\n",
      "None\n",
      "Switch Name :  Yush-mini-Edge1-DUT1\n",
      "Management IP : 10.127.125.221 Password : nbv_12345\n",
      "Description :  \"MDS 9148T 48X32G FC (1 RU) Chassis\"\n",
      "\n",
      "Empty DataFrame\n",
      "Columns: [Interface, VSAN, FCID, PORT NAME, NODE NAME]\n",
      "Index: []\n",
      "None\n",
      "Switch Name :  Yush-mini-Edge2-DUT1\n",
      "Management IP : 10.127.125.222 Password : nbv_12345\n",
      "Description :  \"MDS 9148T 48X32G FC (1 RU) Chassis\"\n",
      "\n",
      "Empty DataFrame\n",
      "Columns: [Interface, VSAN, FCID, PORT NAME, NODE NAME]\n",
      "Index: []\n",
      "None\n",
      "Switch Name :  Yush-mini-Edge3-DUT1\n",
      "Management IP : 10.127.125.220 Password : nbv_12345\n",
      "Description :  \"MDS 9148T 48X32G FC (1 RU) Chassis\"\n",
      "\n",
      "Empty DataFrame\n",
      "Columns: [Interface, VSAN, FCID, PORT NAME, NODE NAME]\n",
      "Index: []\n",
      "None\n",
      "Switch Name :  N9k-StArch-Edge1-DUT1\n",
      "Management IP : 10.127.125.238 Password : nbv_12345\n",
      "Description :  \"Nexus9000 C93360YC-FX2 Chassis\"\n",
      "\n",
      "Empty DataFrame\n",
      "Columns: [Interface, VSAN, FCID, PORT NAME, NODE NAME]\n",
      "Index: []\n",
      "None\n"
     ]
    }
   ],
   "source": [
    "for device in fabric.devices:\n",
    "    device.print_details()\n",
    "    print(device.show_flogi_database(vsan = vsan))"
   ]
  },
  {
   "cell_type": "code",
   "execution_count": 7,
   "metadata": {},
   "outputs": [
    {
     "name": "stdout",
     "output_type": "stream",
     "text": [
      "Fetching fc interfaces...\n",
      "fc1/1       1      E      on      trunking     swl   TE     32     103      \n",
      "\n",
      "fc1/2       1      E      on      trunking     swl   TE     32     103      \n",
      "\n",
      "fc1/3       1      E      on      trunking     swl   TE     32     103      \n",
      "\n",
      "fc1/4       1      E      on      trunking     swl   TE     32     103      \n",
      "\n",
      "fc1/5       1      E      on      trunking     swl   TE     32     103      \n",
      "\n",
      "fc1/6       1      E      on      trunking     swl   TE     32     103      \n",
      "\n",
      "fc1/7       1      E      on      trunking     swl   TE     32     103      \n",
      "\n",
      "fc1/8       1      E      on      trunking     swl   TE     32     103      \n",
      "\n",
      "fc1/9       1      E      on      sfpAbsent    --     --    --     --       \n",
      "\n",
      "fc1/10      1      E      on      sfpAbsent    --     --    --     --       \n",
      "\n",
      "fc1/11      1      E      on      sfpAbsent    --     --    --     --       \n",
      "\n",
      "fc1/12      1      E      on      sfpAbsent    --     --    --     --       \n",
      "\n",
      "fc1/13      1      E      on      notConnected swl    --    --     103      \n",
      "\n",
      "fc1/14      1      E      on      notConnected swl    --    --     103      \n",
      "\n",
      "fc1/15      1      E      on      trunking     swl   TE     32     144      \n",
      "\n",
      "fc1/16      1      E      on      trunking     swl   TE     32     144      \n",
      "\n",
      "fc1/17      1      E      on      trunking     swl   TE     32     104      \n",
      "\n",
      "fc1/18      1      E      on      trunking     swl   TE     32     104      \n",
      "\n",
      "fc1/19      1      E      on      trunking     swl   TE     32     104      \n",
      "\n",
      "fc1/20      1      E      on      trunking     swl   TE     32     104      \n",
      "\n",
      "fc1/21      1      E      on      trunking     swl   TE     32     104      \n",
      "\n",
      "fc1/22      1      E      on      trunking     swl   TE     32     104      \n",
      "\n",
      "fc1/23      1      E      on      trunking     swl   TE     32     104      \n",
      "\n",
      "fc1/24      1      E      on      trunking     swl   TE     32     104      \n",
      "\n",
      "fc1/25      1      E      on      trunking     swl   TE     16     105      \n",
      "\n",
      "fc1/26      1      E      on      trunking     swl   TE     16     105      \n",
      "\n",
      "fc1/27      1      E      on      trunking     swl   TE     16     105      \n",
      "\n",
      "fc1/28      1      E      on      trunking     swl   TE     16     105      \n",
      "\n",
      "fc1/29      1      E      on      trunking     swl   TE     16     105      \n",
      "\n",
      "fc1/30      1      E      on      trunking     swl   TE     16     105      \n",
      "\n",
      "fc1/31      1000   F      on      up           swl   F      16     --       \n",
      "\n",
      "fc1/32      1      E      on      sfpAbsent    --     --    --     --       \n",
      "\n",
      "fc1/33      1      E      on      trunking     swl   TE     32     127      \n",
      "\n",
      "fc1/34      1      E      on      trunking     swl   TE     32     127      \n",
      "\n",
      "fc1/35      1      E      on      trunking     swl   TE     32     127      \n",
      "\n",
      "fc1/36      1      E      on      trunking     swl   TE     32     127      \n",
      "\n",
      "fc1/37      1000   F      on      down         swl    --    --     --       \n",
      "\n",
      "fc1/38      1000   F      on      down         swl    --    --     --       \n",
      "\n",
      "fc1/39      1000   F      on      down         swl    --    --     --       \n",
      "\n",
      "fc1/40      1000   F      on      down         swl    --    --     --       \n",
      "\n",
      "fc1/41      1000   F      on      down         swl    --    --     --       \n",
      "\n",
      "fc1/42      1000   F      on      down         swl    --    --     --       \n",
      "\n",
      "fc1/43      1000   F      on      down         swl    --    --     --       \n",
      "\n",
      "fc1/44      1000   F      on      down         swl    --    --     --       \n",
      "\n",
      "fc1/45      1000   F      on      down         swl    --    --     --       \n",
      "\n",
      "fc1/46      1000   F      on      down         swl    --    --     --       \n",
      "\n",
      "fc1/47      1000   F      on      down         swl    --    --     --       \n",
      "\n",
      "fc1/48      1000   F      on      down         swl    --    --     --       \n",
      "\n"
     ]
    }
   ],
   "source": [
    "switch.show_int_brief_fc()"
   ]
  },
  {
   "cell_type": "code",
   "execution_count": 8,
   "metadata": {},
   "outputs": [
    {
     "name": "stdout",
     "output_type": "stream",
     "text": [
      "  Interface  VSAN      FCID                PORT NAME                NODE NAME\n",
      "0    fc1/31  1000  0x190160  50:06:01:64:49:e0:5b:95  50:06:01:60:c9:e0:5b:95\n"
     ]
    }
   ],
   "source": [
    "switch.show_flogi_database(vsan = vsan)"
   ]
  },
  {
   "cell_type": "code",
   "execution_count": 9,
   "metadata": {},
   "outputs": [
    {
     "name": "stdout",
     "output_type": "stream",
     "text": [
      "  Interface  VSAN      FCID                PORT NAME                NODE NAME\n",
      "0    fc1/31  1000  0x190160  50:06:01:64:49:e0:5b:95  50:06:01:60:c9:e0:5b:95\n"
     ]
    }
   ],
   "source": [
    "switch.show_flogi_database(vsan = vsan)"
   ]
  },
  {
   "cell_type": "code",
   "execution_count": 10,
   "metadata": {},
   "outputs": [
    {
     "name": "stdout",
     "output_type": "stream",
     "text": [
      "fc1/1 <sapphire.FcInterface object at 0x7fdfa0ca8790>\n",
      "fc1/2 <sapphire.FcInterface object at 0x7fdfa0973e80>\n",
      "fc1/3 <sapphire.FcInterface object at 0x7fdfa0c98790>\n",
      "fc1/4 <sapphire.FcInterface object at 0x7fdfa0c98970>\n",
      "fc1/5 <sapphire.FcInterface object at 0x7fdfa0c989d0>\n",
      "fc1/6 <sapphire.FcInterface object at 0x7fdf9cf91250>\n",
      "fc1/7 <sapphire.FcInterface object at 0x7fdfa0e71be0>\n",
      "fc1/8 <sapphire.FcInterface object at 0x7fdfa083a9d0>\n",
      "fc1/9 <sapphire.FcInterface object at 0x7fdfa0c96100>\n",
      "fc1/10 <sapphire.FcInterface object at 0x7fdfa0c37af0>\n",
      "fc1/11 <sapphire.FcInterface object at 0x7fdfa098fb50>\n",
      "fc1/12 <sapphire.FcInterface object at 0x7fdfa098f310>\n",
      "fc1/13 <sapphire.FcInterface object at 0x7fdfa098fa00>\n",
      "fc1/14 <sapphire.FcInterface object at 0x7fdfa098fa30>\n",
      "fc1/15 <sapphire.FcInterface object at 0x7fdfa098f550>\n",
      "fc1/16 <sapphire.FcInterface object at 0x7fdfa098f640>\n",
      "fc1/17 <sapphire.FcInterface object at 0x7fdfa098fe20>\n",
      "fc1/18 <sapphire.FcInterface object at 0x7fdfa098f070>\n",
      "fc1/19 <sapphire.FcInterface object at 0x7fdfa098f340>\n",
      "fc1/20 <sapphire.FcInterface object at 0x7fdfa098f850>\n",
      "fc1/21 <sapphire.FcInterface object at 0x7fdfa098f6a0>\n",
      "fc1/22 <sapphire.FcInterface object at 0x7fdfa098f040>\n",
      "fc1/23 <sapphire.FcInterface object at 0x7fdfa0cb8460>\n",
      "fc1/24 <sapphire.FcInterface object at 0x7fdfa0cb8280>\n",
      "fc1/25 <sapphire.FcInterface object at 0x7fdfa0cb8100>\n",
      "fc1/26 <sapphire.FcInterface object at 0x7fdfa0cb8610>\n",
      "fc1/27 <sapphire.FcInterface object at 0x7fdfa0cb82b0>\n",
      "fc1/28 <sapphire.FcInterface object at 0x7fdfa0c9a580>\n",
      "fc1/29 <sapphire.FcInterface object at 0x7fdfa0c9a790>\n",
      "fc1/30 <sapphire.FcInterface object at 0x7fdfa0c9a670>\n",
      "fc1/31 <sapphire.FcInterface object at 0x7fdfa0cb8220>\n",
      "fc1/32 <sapphire.FcInterface object at 0x7fdfa0cb80d0>\n",
      "fc1/33 <sapphire.FcInterface object at 0x7fdfa0cb8fd0>\n",
      "fc1/34 <sapphire.FcInterface object at 0x7fdfa0cb81f0>\n",
      "fc1/35 <sapphire.FcInterface object at 0x7fdfa0cb8580>\n",
      "fc1/36 <sapphire.FcInterface object at 0x7fdfa098fe50>\n",
      "fc1/37 <sapphire.FcInterface object at 0x7fdfa098feb0>\n",
      "fc1/38 <sapphire.FcInterface object at 0x7fdfa098f910>\n",
      "fc1/39 <sapphire.FcInterface object at 0x7fdfa098f5e0>\n",
      "fc1/40 <sapphire.FcInterface object at 0x7fdfa098f370>\n",
      "fc1/41 <sapphire.FcInterface object at 0x7fdfa098f970>\n",
      "fc1/42 <sapphire.FcInterface object at 0x7fdfa098f940>\n",
      "fc1/43 <sapphire.FcInterface object at 0x7fdfa098fc40>\n",
      "fc1/44 <sapphire.FcInterface object at 0x7fdfa098ff40>\n",
      "fc1/45 <sapphire.FcInterface object at 0x7fdfa0c37f10>\n",
      "fc1/46 <sapphire.FcInterface object at 0x7fdfa0cb6d00>\n",
      "fc1/47 <sapphire.FcInterface object at 0x7fdfa08a59d0>\n",
      "fc1/48 <sapphire.FcInterface object at 0x7fdfa0c98b20>\n"
     ]
    }
   ],
   "source": [
    "for key,value in switch.fc_interface.items():\n",
    "    print(key, value)"
   ]
  },
  {
   "cell_type": "code",
   "execution_count": 11,
   "metadata": {},
   "outputs": [
    {
     "name": "stdout",
     "output_type": "stream",
     "text": [
      "client <paramiko.client.SSHClient object at 0x7fdfa08a44c0>\n",
      "name fc1/1\n",
      "vsan 1\n",
      "admin_mode E\n",
      "admin_trunk_mode on\n",
      "status trunking\n",
      "sfp swl\n",
      "oper_mode TE\n",
      "oper_speed 32\n",
      "port_channel 103\n"
     ]
    }
   ],
   "source": [
    "switch.fc_interface['fc1/1'].show()"
   ]
  },
  {
   "cell_type": "code",
   "execution_count": 12,
   "metadata": {},
   "outputs": [
    {
     "data": {
      "text/plain": [
       "{'client': <paramiko.client.SSHClient at 0x7fdfa08a44c0>,\n",
       " 'name': 'fc1/17',\n",
       " 'vsan': '1',\n",
       " 'admin_mode': 'E',\n",
       " 'admin_trunk_mode': 'on',\n",
       " 'status': 'trunking',\n",
       " 'sfp': 'swl',\n",
       " 'oper_mode': 'TE',\n",
       " 'oper_speed': '32',\n",
       " 'port_channel': '104'}"
      ]
     },
     "execution_count": 12,
     "metadata": {},
     "output_type": "execute_result"
    }
   ],
   "source": [
    "switch.fc_interface['fc1/17'].__dict__"
   ]
  },
  {
   "cell_type": "code",
   "execution_count": 13,
   "metadata": {},
   "outputs": [],
   "source": [
    "#switch.fc_interface['fc1/17'].flap()"
   ]
  },
  {
   "cell_type": "code",
   "execution_count": 14,
   "metadata": {},
   "outputs": [
    {
     "name": "stdout",
     "output_type": "stream",
     "text": [
      "<paramiko.client.SSHClient object at 0x7fdfa08a44c0> fc1/17 1 E on trunking swl TE 32 104 "
     ]
    }
   ],
   "source": [
    "switch.fc_interface['fc1/17'].show_brief()"
   ]
  },
  {
   "cell_type": "code",
   "execution_count": 15,
   "metadata": {
    "tags": [
     "outputPrepend"
    ]
   },
   "outputs": [
    {
     "name": "stdout",
     "output_type": "stream",
     "text": [
      "Getting active zoneset info for vsan 1000\n",
      "Active Zoneset : Zoneset_SAN-A\n",
      "zone_Baseport_CISCO_40G_SAN-A [('fcid', '0x230080'), ('fcid', '0x190160')]\n",
      "zone_Baseport_Qlogic_HBA_32G_SAN-A [('fcid', '0x230000'), ('fcid', '0x190160')]\n",
      "zone_Baseport_CISCO_100G_SAN-A [('fcid', '0x2300a0'), ('fcid', '0x190160')]\n",
      "zone_Baseport_CISCO_25G_SAN-A [('fcid', '0x230060'), ('fcid', '0x190160')]\n",
      "zone_Baseport_CISCO_VIC_10G_SAN-A [('fcid', '0x230040'), ('fcid', '0x190160')]\n",
      "zone_Baseport_Emulex_HBA_16G_SAN-A [('fcid', '0x230020'), ('fcid', '0x190160')]\n"
     ]
    }
   ],
   "source": [
    "switch.show_zoneset_active(vsan = vsan)"
   ]
  },
  {
   "cell_type": "code",
   "execution_count": 16,
   "metadata": {
    "tags": []
   },
   "outputs": [
    {
     "name": "stdout",
     "output_type": "stream",
     "text": [
      "Getting active zoneset info for vsan 1000\n",
      "Active Zoneset : Zoneset_SAN-A\n",
      "{'zone_Baseport_CISCO_40G_SAN-A': [('fcid', '0x230080'), ('fcid', '0x190160')], 'zone_Baseport_Qlogic_HBA_32G_SAN-A': [('fcid', '0x230000'), ('fcid', '0x190160')], 'zone_Baseport_CISCO_100G_SAN-A': [('fcid', '0x2300a0'), ('fcid', '0x190160')], 'zone_Baseport_CISCO_25G_SAN-A': [('fcid', '0x230060'), ('fcid', '0x190160')], 'zone_Baseport_CISCO_VIC_10G_SAN-A': [('fcid', '0x230040'), ('fcid', '0x190160')], 'zone_Baseport_Emulex_HBA_16G_SAN-A': [('fcid', '0x230020'), ('fcid', '0x190160')]}\n"
     ]
    }
   ],
   "source": [
    "zone_dict = switch.get_zoneset_active(vsan = vsan)\n",
    "print(zone_dict)"
   ]
  },
  {
   "cell_type": "code",
   "execution_count": 17,
   "metadata": {},
   "outputs": [
    {
     "name": "stdout",
     "output_type": "stream",
     "text": [
      "(6, 2)\n"
     ]
    },
    {
     "data": {
      "text/html": [
       "<div>\n",
       "<style scoped>\n",
       "    .dataframe tbody tr th:only-of-type {\n",
       "        vertical-align: middle;\n",
       "    }\n",
       "\n",
       "    .dataframe tbody tr th {\n",
       "        vertical-align: top;\n",
       "    }\n",
       "\n",
       "    .dataframe thead th {\n",
       "        text-align: right;\n",
       "    }\n",
       "</style>\n",
       "<table border=\"1\" class=\"dataframe\">\n",
       "  <thead>\n",
       "    <tr style=\"text-align: right;\">\n",
       "      <th></th>\n",
       "      <th>0</th>\n",
       "      <th>1</th>\n",
       "    </tr>\n",
       "  </thead>\n",
       "  <tbody>\n",
       "    <tr>\n",
       "      <th>zone_Baseport_CISCO_40G_SAN-A</th>\n",
       "      <td>(fcid, 0x230080)</td>\n",
       "      <td>(fcid, 0x190160)</td>\n",
       "    </tr>\n",
       "    <tr>\n",
       "      <th>zone_Baseport_Qlogic_HBA_32G_SAN-A</th>\n",
       "      <td>(fcid, 0x230000)</td>\n",
       "      <td>(fcid, 0x190160)</td>\n",
       "    </tr>\n",
       "    <tr>\n",
       "      <th>zone_Baseport_CISCO_100G_SAN-A</th>\n",
       "      <td>(fcid, 0x2300a0)</td>\n",
       "      <td>(fcid, 0x190160)</td>\n",
       "    </tr>\n",
       "    <tr>\n",
       "      <th>zone_Baseport_CISCO_25G_SAN-A</th>\n",
       "      <td>(fcid, 0x230060)</td>\n",
       "      <td>(fcid, 0x190160)</td>\n",
       "    </tr>\n",
       "    <tr>\n",
       "      <th>zone_Baseport_CISCO_VIC_10G_SAN-A</th>\n",
       "      <td>(fcid, 0x230040)</td>\n",
       "      <td>(fcid, 0x190160)</td>\n",
       "    </tr>\n",
       "    <tr>\n",
       "      <th>zone_Baseport_Emulex_HBA_16G_SAN-A</th>\n",
       "      <td>(fcid, 0x230020)</td>\n",
       "      <td>(fcid, 0x190160)</td>\n",
       "    </tr>\n",
       "  </tbody>\n",
       "</table>\n",
       "</div>"
      ],
      "text/plain": [
       "                                                   0                 1\n",
       "zone_Baseport_CISCO_40G_SAN-A       (fcid, 0x230080)  (fcid, 0x190160)\n",
       "zone_Baseport_Qlogic_HBA_32G_SAN-A  (fcid, 0x230000)  (fcid, 0x190160)\n",
       "zone_Baseport_CISCO_100G_SAN-A      (fcid, 0x2300a0)  (fcid, 0x190160)\n",
       "zone_Baseport_CISCO_25G_SAN-A       (fcid, 0x230060)  (fcid, 0x190160)\n",
       "zone_Baseport_CISCO_VIC_10G_SAN-A   (fcid, 0x230040)  (fcid, 0x190160)\n",
       "zone_Baseport_Emulex_HBA_16G_SAN-A  (fcid, 0x230020)  (fcid, 0x190160)"
      ]
     },
     "execution_count": 17,
     "metadata": {},
     "output_type": "execute_result"
    }
   ],
   "source": [
    "df = pd.DataFrame.from_dict(zone_dict, orient = 'index')\n",
    "print(df.shape)\n",
    "df.head(df.shape[0])"
   ]
  },
  {
   "cell_type": "code",
   "execution_count": 18,
   "metadata": {
    "tags": []
   },
   "outputs": [
    {
     "name": "stdout",
     "output_type": "stream",
     "text": [
      "Getting fcns database for vsan 1000\n",
      "('0x190160', 'N', '50:06:01:64:49:e0:5b:95', 'Clariion', 'scsi', 'fcp', ['both'])\n",
      "('0x230000', 'N', '21:00:f4:e9:d4:58:2a:64', None, 'scsi', 'fcp', ['init'])\n",
      "('0x230020', 'N', '10:00:00:90:fa:f0:78:98', 'Emulex', 'scsi', 'fcp', ['init'])\n",
      "('0x230040', 'N', '20:00:28:ac:9e:7c:78:45', 'Cisco', 'scsi', 'fcp', ['init', 'fc-gs'])\n",
      "('0x230060', 'N', '20:00:3c:57:31:e5:2a:75', None, 'scsi', 'fcp', ['init', 'fc-gs'])\n",
      "('0x230080', 'N', '20:00:d8:b1:90:18:e3:ea', 'Cisco', 'scsi', 'fcp', ['init', 'fc-gs'])\n",
      "('0x2300a0', 'N', '20:00:a8:b4:56:50:4e:e2', None, 'scsi', 'fcp', ['init', 'fc-gs'])\n",
      "('0x250000', 'N', '50:06:01:67:49:e0:5b:95', 'Clariion', 'scsi', 'fcp', ['both'])\n",
      "('0x250020', 'N', '50:06:01:63:49:e0:5b:95', 'Clariion', 'scsi', 'fcp', ['both'])\n"
     ]
    }
   ],
   "source": [
    "switch.show_fcns_database(vsan = vsan)"
   ]
  },
  {
   "cell_type": "code",
   "execution_count": 19,
   "metadata": {},
   "outputs": [
    {
     "name": "stdout",
     "output_type": "stream",
     "text": [
      "  Interface  VSAN      FCID                PORT NAME                NODE NAME\n",
      "0    fc1/31  1000  0x190160  50:06:01:64:49:e0:5b:95  50:06:01:60:c9:e0:5b:95\n"
     ]
    }
   ],
   "source": [
    "switch.show_flogi_database(vsan = vsan)"
   ]
  },
  {
   "cell_type": "code",
   "execution_count": null,
   "metadata": {},
   "outputs": [],
   "source": [
    "# See https://neo4j.com/developer/aura-connect-driver/ for Aura specific connection URL.\n",
    "scheme = \"neo4j\"  # Connecting to Aura, use the \"neo4j+s\" URI scheme\n",
    "host_name = \"localhost\"\n",
    "port = 7687\n",
    "url = \"{scheme}://{host_name}:{port}\".format(scheme=scheme, host_name=host_name, port=port)\n",
    "user = \"admin\"\n",
    "password = \"admin\"\n",
    "app = App(url, user, password)"
   ]
  },
  {
   "cell_type": "code",
   "execution_count": null,
   "metadata": {},
   "outputs": [],
   "source": [
    "for switch in fabric.devices:\n",
    "    switch.print_details()\n",
    "    if 'MDS' in switch.descr:\n",
    "        continue\n",
    "    switch.show_int_brief_fc()\n",
    "    for interface in switch.fc_interface:\n",
    "        print ('Creating ports from {0}, interface : {1}'.format(switch.switchname, interface))\n",
    "        app.create_port_node(switch.switchname, interface)\n",
    "        \n",
    "    switch.show_int_brief_vfc()\n",
    "    for interface in switch.vfc_interface:\n",
    "        print ('Creating ports from {0}, interface : {1}'.format(switch.switchname, interface))\n",
    "        app.create_port_node(switch.switchname, interface)\n",
    "        \n",
    "    switch.show_int_brief_sanpo()\n",
    "    for interface in switch.sanpo_interface:\n",
    "        print ('Creating ports from {0}, interface : {1}'.format(switch.switchname, interface))\n",
    "        app.create_port_node(switch.switchname, interface)"
   ]
  },
  {
   "cell_type": "code",
   "execution_count": null,
   "metadata": {},
   "outputs": [],
   "source": [
    "# Not supporting E links currently\n",
    "'''\n",
    "for switch in fabric.devices:\n",
    "    switchname = switch.switchname\n",
    "    print(switch.switchname, switch.mgmt_ip)\n",
    "    peers = switch.get_topology(vsan = 1000)\n",
    "    print(peers.head())\n",
    "    for i in range(peers.shape[0]):\n",
    "        peer_switch = peers['Switch Name'][i]\n",
    "        app.create_link(switchname, peer_switch, 'E')\n",
    "'''\n"
   ]
  },
  {
   "cell_type": "code",
   "execution_count": null,
   "metadata": {},
   "outputs": [],
   "source": [
    "for switch in fabric.devices:\n",
    "    switchname = switch.switchname\n",
    "    flogi_df = switch.get_flogi_database(vsan = vsan)\n",
    "    print(flogi_df.head())\n",
    "    for i in range(flogi_df.shape[0]):\n",
    "        fcid = flogi_df['FCID'][i]\n",
    "        port = flogi_df['Interface'][i]\n",
    "        switch_port = switchname + '_' + port\n",
    "        app.create_link(switch_port, fcid, 'N')"
   ]
  },
  {
   "cell_type": "code",
   "execution_count": null,
   "metadata": {},
   "outputs": [],
   "source": [
    "from tqdm import tqdm \n",
    "\n",
    "# Getting zone config\n",
    "zone_dict = switch.get_zoneset_active(vsan = vsan)\n",
    "zone_df = pd.DataFrame.from_dict(zone_dict, orient = 'index')\n",
    "\n",
    "\n",
    "for index, row in tqdm(zone_df.iterrows(), total = zone_df.shape[0]): \n",
    "    #print('Iterating over devices under zone {}'.format(index))\n",
    "    concerned_ports = []\n",
    "    for i in range(len(row)):\n",
    "        if row[i] == None:\n",
    "            #Ignoring empty cells\n",
    "            continue\n",
    "            \n",
    "        # row[i][0] is the member type, and row[i][1] is the value.    \n",
    "        switch_port = get_switch_port(fabric, vsan, row[i][0], row[i][1])\n",
    "        if switch_port != None:\n",
    "            concerned_ports.append(switch_port)\n",
    "            \n",
    "    #Now, create links between all the devices under the same zone.\n",
    "    for i in range(len(concerned_ports)):\n",
    "        for j in range(i+1, len(concerned_ports)):\n",
    "            #print('Adding virtual link between {} and {}'.format(concerned_ports[i], concerned_ports[j]))\n",
    "            app.create_link(concerned_ports[i], concerned_ports[j], 'V')\n",
    "\n",
    "            "
   ]
  },
  {
   "cell_type": "code",
   "execution_count": null,
   "metadata": {},
   "outputs": [],
   "source": [
    "app.close()"
   ]
  }
 ],
 "metadata": {
  "kernelspec": {
   "display_name": "Python 3",
   "language": "python",
   "name": "python3"
  },
  "language_info": {
   "codemirror_mode": {
    "name": "ipython",
    "version": 3
   },
   "file_extension": ".py",
   "mimetype": "text/x-python",
   "name": "python",
   "nbconvert_exporter": "python",
   "pygments_lexer": "ipython3",
   "version": "3.8.5"
  }
 },
 "nbformat": 4,
 "nbformat_minor": 2
}
