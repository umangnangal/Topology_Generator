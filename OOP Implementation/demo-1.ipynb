{
 "cells": [
  {
   "cell_type": "code",
   "execution_count": 1,
   "metadata": {},
   "outputs": [
    {
     "name": "stdout",
     "output_type": "stream",
     "text": [
      "    Management IP   Password\n",
      "0   10.127.119.83   nbv_3124\n",
      "1  10.127.119.103   nbv_3124\n",
      "2   10.127.119.84   nbv_3124\n",
      "3   10.127.119.98   nbv_3124\n",
      "4  10.127.125.228  nbv_12345\n"
     ]
    }
   ],
   "source": [
    "from sapphire import *"
   ]
  },
  {
   "cell_type": "code",
   "execution_count": 2,
   "metadata": {},
   "outputs": [
    {
     "name": "stdout",
     "output_type": "stream",
     "text": [
      "Paramiko client created successfully :  <paramiko.client.SSHClient object at 0x7fad0a0e6400>\n",
      "Switch object created with paramiko client in-built.\n"
     ]
    }
   ],
   "source": [
    "mgmt_ip = '10.127.190.136'\n",
    "password = 'nbv_12345'\n",
    "\n",
    "mgmt_ip = '10.127.125.228'\n",
    "password = 'nbv_12345'\n",
    "\n",
    "mgmt_ip = '10.127.119.98'\n",
    "password = 'nbv_3124'\n",
    "\n",
    "mgmt_ip = '172.25.169.24'\n",
    "password = 'nbv_12345'\n",
    "\n",
    "mgmt_ip = '10.197.155.82'\n",
    "password = 'n'\n",
    "\n",
    "mgmt_ip = '10.127.125.219'\n",
    "\n",
    "mgmt_ip = '10.127.190.134'\n",
    "password = 'nbv_12345'\n",
    "\n",
    "switch = Switch(mgmt_ip, password)\n",
    "#vsan = int(input('Please enter the VSAN of interest : '))\n",
    "vsan = 200"
   ]
  },
  {
   "cell_type": "code",
   "execution_count": 3,
   "metadata": {},
   "outputs": [
    {
     "data": {
      "text/plain": [
       "<sapphire.Switch at 0x7fad0a0e63d0>"
      ]
     },
     "execution_count": 3,
     "metadata": {},
     "output_type": "execute_result"
    }
   ],
   "source": [
    "switch"
   ]
  },
  {
   "cell_type": "code",
   "execution_count": 4,
   "metadata": {},
   "outputs": [
    {
     "name": "stdout",
     "output_type": "stream",
     "text": [
      "Fabric object initialized\n"
     ]
    }
   ],
   "source": [
    "fabric = Fabric(switch)"
   ]
  },
  {
   "cell_type": "code",
   "execution_count": 5,
   "metadata": {},
   "outputs": [],
   "source": [
    "fabric.search_devices(vsan = vsan)"
   ]
  },
  {
   "cell_type": "code",
   "execution_count": 6,
   "metadata": {},
   "outputs": [
    {
     "name": "stdout",
     "output_type": "stream",
     "text": [
      "Switch Name :  HW-Core-2\n",
      "Management IP : 10.127.190.134 Password : nbv_12345\n",
      "Description :  \"Nexus9000 C93180YC-FX Chassis\"\n",
      "\n",
      "             Interface VSAN      FCID                PORT NAME  \\\n",
      "0               fc1/13  200  0xa100ef  50:06:01:68:3e:e0:20:f9   \n",
      "1  san-port-channel211  200  0xa10000  10:00:00:10:9b:22:5b:4d   \n",
      "2  san-port-channel211  200  0xa10021  20:00:7c:31:0e:8f:c7:c9   \n",
      "3  san-port-channel212  200  0xa10040  20:00:7c:31:0e:8f:c7:cb   \n",
      "4               vfc213  200  0xa10001  20:00:a8:b4:56:50:bc:be   \n",
      "\n",
      "                 NODE NAME  \n",
      "0  50:06:01:60:be:e0:20:f9  \n",
      "1  20:00:00:10:9b:22:5b:4d  \n",
      "2  10:00:7c:31:0e:8f:c7:c9  \n",
      "3  10:00:7c:31:0e:8f:c7:cb  \n",
      "4  10:00:a8:b4:56:50:bc:be  \n",
      "None\n"
     ]
    }
   ],
   "source": [
    "for device in fabric.devices:\n",
    "    device.print_details()\n",
    "    print(device.show_flogi_database(vsan = vsan))"
   ]
  },
  {
   "cell_type": "code",
   "execution_count": 7,
   "metadata": {},
   "outputs": [
    {
     "name": "stdout",
     "output_type": "stream",
     "text": [
      "Fetching fc interfaces...\n",
      "fc1/1       200    F      on      trunking     swl   TF     32     211      \n",
      "\n",
      "fc1/2       200    F      on      trunking     swl   TF     32     211      \n",
      "\n",
      "fc1/3       200    F      on      trunking     swl   TF     32     211      \n",
      "\n",
      "fc1/4       200    F      on      trunking     swl   TF     32     211      \n",
      "\n",
      "fc1/5       200    F      on      trunking     swl   TF     32     211      \n",
      "\n",
      "fc1/6       200    F      on      trunking     swl   TF     32     211      \n",
      "\n",
      "fc1/7       200    F      on      trunking     swl   TF     32     211      \n",
      "\n",
      "fc1/8       200    F      on      trunking     swl   TF     32     211      \n",
      "\n",
      "fc1/13      200    auto   on      up           swl   F      4      --       \n",
      "\n",
      "fc1/14      1      auto   on      down         lwcr   --    --     --       \n",
      "\n",
      "fc1/15      1      auto   on      sfpAbsent    --     --    --     --       \n",
      "\n",
      "fc1/16      1      auto   on      down         swl    --    --     --       \n",
      "\n",
      "fc1/17      200    F      on      trunking     swl   TF     16     212      \n",
      "\n",
      "fc1/18      200    F      on      trunking     swl   TF     16     212      \n",
      "\n",
      "fc1/19      200    F      on      trunking     swl   TF     16     212      \n",
      "\n",
      "fc1/20      200    F      on      trunking     swl   TF     16     212      \n",
      "\n",
      "fc1/21      200    F      on      trunking     swl   TF     16     212      \n",
      "\n",
      "fc1/22      200    F      on      trunking     swl   TF     16     212      \n",
      "\n",
      "fc1/23      200    F      on      trunking     swl   TF     16     212      \n",
      "\n",
      "fc1/24      200    F      on      trunking     swl   TF     16     212      \n",
      "\n",
      "fc1/33      1      auto   on      down         swl    --    --     --       \n",
      "\n",
      "fc1/34      1      auto   on      down         swl    --    --     --       \n",
      "\n",
      "fc1/35      1      auto   on      down         lwcr   --    --     --       \n",
      "\n",
      "fc1/36      1      auto   on      down         lwcr   --    --     --       \n",
      "\n"
     ]
    }
   ],
   "source": [
    "switch.show_int_brief_fc()"
   ]
  },
  {
   "cell_type": "code",
   "execution_count": 8,
   "metadata": {},
   "outputs": [
    {
     "name": "stdout",
     "output_type": "stream",
     "text": [
      "             Interface VSAN      FCID                PORT NAME  \\\n",
      "0               fc1/13  200  0xa100ef  50:06:01:68:3e:e0:20:f9   \n",
      "1  san-port-channel211  200  0xa10000  10:00:00:10:9b:22:5b:4d   \n",
      "2  san-port-channel211  200  0xa10021  20:00:7c:31:0e:8f:c7:c9   \n",
      "3  san-port-channel212  200  0xa10040  20:00:7c:31:0e:8f:c7:cb   \n",
      "4               vfc213  200  0xa10001  20:00:a8:b4:56:50:bc:be   \n",
      "\n",
      "                 NODE NAME  \n",
      "0  50:06:01:60:be:e0:20:f9  \n",
      "1  20:00:00:10:9b:22:5b:4d  \n",
      "2  10:00:7c:31:0e:8f:c7:c9  \n",
      "3  10:00:7c:31:0e:8f:c7:cb  \n",
      "4  10:00:a8:b4:56:50:bc:be  \n"
     ]
    }
   ],
   "source": [
    "switch.show_flogi_database(vsan = vsan)"
   ]
  },
  {
   "cell_type": "code",
   "execution_count": 9,
   "metadata": {},
   "outputs": [
    {
     "name": "stdout",
     "output_type": "stream",
     "text": [
      "fc1/1 <sapphire.FcInterface object at 0x7fad0a135790>\n",
      "fc1/2 <sapphire.FcInterface object at 0x7fad0a135b20>\n",
      "fc1/3 <sapphire.FcInterface object at 0x7fad0a135a00>\n",
      "fc1/4 <sapphire.FcInterface object at 0x7fad0a1358e0>\n",
      "fc1/5 <sapphire.FcInterface object at 0x7fad0a1357f0>\n",
      "fc1/6 <sapphire.FcInterface object at 0x7fad0a135070>\n",
      "fc1/7 <sapphire.FcInterface object at 0x7fad0a135100>\n",
      "fc1/8 <sapphire.FcInterface object at 0x7fad0a141940>\n",
      "fc1/13 <sapphire.FcInterface object at 0x7fad0a1413d0>\n",
      "fc1/14 <sapphire.FcInterface object at 0x7fad0a141a60>\n",
      "fc1/15 <sapphire.FcInterface object at 0x7fad0a141b50>\n",
      "fc1/16 <sapphire.FcInterface object at 0x7fad0a141c40>\n",
      "fc1/17 <sapphire.FcInterface object at 0x7fad0a141d30>\n",
      "fc1/18 <sapphire.FcInterface object at 0x7fad0a141e20>\n",
      "fc1/19 <sapphire.FcInterface object at 0x7fad0a141f10>\n",
      "fc1/20 <sapphire.FcInterface object at 0x7fad0a14a040>\n",
      "fc1/21 <sapphire.FcInterface object at 0x7fad0a14a130>\n",
      "fc1/22 <sapphire.FcInterface object at 0x7fad0a14a220>\n",
      "fc1/23 <sapphire.FcInterface object at 0x7fad0a14a310>\n",
      "fc1/24 <sapphire.FcInterface object at 0x7fad0a14a400>\n",
      "fc1/33 <sapphire.FcInterface object at 0x7fad0a14a4f0>\n",
      "fc1/34 <sapphire.FcInterface object at 0x7fad0a14a5e0>\n",
      "fc1/35 <sapphire.FcInterface object at 0x7fad0a14a6d0>\n",
      "fc1/36 <sapphire.FcInterface object at 0x7fad0a14a7c0>\n"
     ]
    }
   ],
   "source": [
    "for key,value in switch.fc_interface.items():\n",
    "    print(key, value)"
   ]
  },
  {
   "cell_type": "code",
   "execution_count": 10,
   "metadata": {},
   "outputs": [
    {
     "name": "stdout",
     "output_type": "stream",
     "text": [
      "client <paramiko.client.SSHClient object at 0x7fad0a0e6400>\n",
      "name fc1/1\n",
      "vsan 200\n",
      "admin_mode F\n",
      "admin_trunk_mode on\n",
      "status trunking\n",
      "sfp swl\n",
      "oper_mode TF\n",
      "oper_speed 32\n",
      "port_channel 211\n"
     ]
    }
   ],
   "source": [
    "switch.fc_interface['fc1/1'].show()"
   ]
  },
  {
   "cell_type": "code",
   "execution_count": 11,
   "metadata": {},
   "outputs": [
    {
     "data": {
      "text/plain": [
       "{'client': <paramiko.client.SSHClient at 0x7fad0a0e6400>,\n",
       " 'name': 'fc1/17',\n",
       " 'vsan': '200',\n",
       " 'admin_mode': 'F',\n",
       " 'admin_trunk_mode': 'on',\n",
       " 'status': 'trunking',\n",
       " 'sfp': 'swl',\n",
       " 'oper_mode': 'TF',\n",
       " 'oper_speed': '16',\n",
       " 'port_channel': '212'}"
      ]
     },
     "execution_count": 11,
     "metadata": {},
     "output_type": "execute_result"
    }
   ],
   "source": [
    "switch.fc_interface['fc1/17'].__dict__"
   ]
  },
  {
   "cell_type": "code",
   "execution_count": 12,
   "metadata": {},
   "outputs": [],
   "source": [
    "#switch.fc_interface['fc1/17'].flap()"
   ]
  },
  {
   "cell_type": "code",
   "execution_count": 13,
   "metadata": {},
   "outputs": [
    {
     "name": "stdout",
     "output_type": "stream",
     "text": [
      "<paramiko.client.SSHClient object at 0x7fad0a0e6400> fc1/17 200 F on trunking swl TF 16 212 "
     ]
    }
   ],
   "source": [
    "switch.fc_interface['fc1/17'].show_brief()"
   ]
  },
  {
   "cell_type": "code",
   "execution_count": 14,
   "metadata": {
    "tags": [
     "outputPrepend"
    ]
   },
   "outputs": [
    {
     "name": "stdout",
     "output_type": "stream",
     "text": [
      "Getting active zoneset info for vsan 200\n",
      "Active Zoneset : SaintArcher_zoneset2\n",
      "emulex_host [('fcid', '0xa10000'), ('fcid', '0xa100ef')]\n",
      "cisco_10G_host [('fcid', '0xa10021'), ('fcid', '0xa100ef')]\n",
      "cisco_40G_host [('fcid', '0xa10001'), ('fcid', '0xa100ef')]\n",
      "cisco_25G_host [('fcid', '0xa10040'), ('fcid', '0xa100ef')]\n"
     ]
    }
   ],
   "source": [
    "switch.show_zoneset_active(vsan = vsan)"
   ]
  },
  {
   "cell_type": "code",
   "execution_count": 15,
   "metadata": {
    "tags": []
   },
   "outputs": [
    {
     "name": "stdout",
     "output_type": "stream",
     "text": [
      "Getting active zoneset info for vsan 200\n",
      "Active Zoneset : SaintArcher_zoneset2\n",
      "{'emulex_host': [('fcid', '0xa10000'), ('fcid', '0xa100ef')], 'cisco_10G_host': [('fcid', '0xa10021'), ('fcid', '0xa100ef')], 'cisco_40G_host': [('fcid', '0xa10001'), ('fcid', '0xa100ef')], 'cisco_25G_host': [('fcid', '0xa10040'), ('fcid', '0xa100ef')]}\n"
     ]
    }
   ],
   "source": [
    "zone_dict = switch.get_zoneset_active(vsan = vsan)\n",
    "print(zone_dict)"
   ]
  },
  {
   "cell_type": "code",
   "execution_count": 16,
   "metadata": {},
   "outputs": [
    {
     "data": {
      "text/html": [
       "<div>\n",
       "<style scoped>\n",
       "    .dataframe tbody tr th:only-of-type {\n",
       "        vertical-align: middle;\n",
       "    }\n",
       "\n",
       "    .dataframe tbody tr th {\n",
       "        vertical-align: top;\n",
       "    }\n",
       "\n",
       "    .dataframe thead th {\n",
       "        text-align: right;\n",
       "    }\n",
       "</style>\n",
       "<table border=\"1\" class=\"dataframe\">\n",
       "  <thead>\n",
       "    <tr style=\"text-align: right;\">\n",
       "      <th></th>\n",
       "      <th>0</th>\n",
       "      <th>1</th>\n",
       "    </tr>\n",
       "  </thead>\n",
       "  <tbody>\n",
       "    <tr>\n",
       "      <th>emulex_host</th>\n",
       "      <td>(fcid, 0xa10000)</td>\n",
       "      <td>(fcid, 0xa100ef)</td>\n",
       "    </tr>\n",
       "    <tr>\n",
       "      <th>cisco_10G_host</th>\n",
       "      <td>(fcid, 0xa10021)</td>\n",
       "      <td>(fcid, 0xa100ef)</td>\n",
       "    </tr>\n",
       "    <tr>\n",
       "      <th>cisco_40G_host</th>\n",
       "      <td>(fcid, 0xa10001)</td>\n",
       "      <td>(fcid, 0xa100ef)</td>\n",
       "    </tr>\n",
       "    <tr>\n",
       "      <th>cisco_25G_host</th>\n",
       "      <td>(fcid, 0xa10040)</td>\n",
       "      <td>(fcid, 0xa100ef)</td>\n",
       "    </tr>\n",
       "  </tbody>\n",
       "</table>\n",
       "</div>"
      ],
      "text/plain": [
       "                               0                 1\n",
       "emulex_host     (fcid, 0xa10000)  (fcid, 0xa100ef)\n",
       "cisco_10G_host  (fcid, 0xa10021)  (fcid, 0xa100ef)\n",
       "cisco_40G_host  (fcid, 0xa10001)  (fcid, 0xa100ef)\n",
       "cisco_25G_host  (fcid, 0xa10040)  (fcid, 0xa100ef)"
      ]
     },
     "execution_count": 16,
     "metadata": {},
     "output_type": "execute_result"
    }
   ],
   "source": [
    "df = pd.DataFrame.from_dict(zone_dict, orient = 'index')\n",
    "df.head(df.shape[0])"
   ]
  },
  {
   "cell_type": "code",
   "execution_count": 17,
   "metadata": {
    "tags": []
   },
   "outputs": [
    {
     "name": "stdout",
     "output_type": "stream",
     "text": [
      "Getting fcns database for vsan 200\n",
      "('0xa10000', 'N', '10:00:00:10:9b:22:5b:4d', 'Emulex', 'scsi', 'fcp', ['init'])\n",
      "('0xa10001', 'N', '20:00:a8:b4:56:50:bc:be', None, 'scsi', 'fcp', ['init', 'fc-gs'])\n",
      "('0xa10021', 'N', '20:00:7c:31:0e:8f:c7:c9', None, 'scsi', 'fcp', ['init', 'fc-gs'])\n",
      "('0xa10040', 'N', '20:00:7c:31:0e:8f:c7:cb', None, 'scsi', 'fcp', ['init', 'fc-gs'])\n",
      "('0xa100ef', 'N', '50:06:01:68:3e:e0:20:f9', 'Clariion', 'scsi', 'fcp', ['target'])\n"
     ]
    }
   ],
   "source": [
    "switch.show_fcns_database(vsan = vsan)"
   ]
  },
  {
   "cell_type": "code",
   "execution_count": 18,
   "metadata": {},
   "outputs": [
    {
     "name": "stdout",
     "output_type": "stream",
     "text": [
      "             Interface VSAN      FCID                PORT NAME  \\\n",
      "0               fc1/13  200  0xa100ef  50:06:01:68:3e:e0:20:f9   \n",
      "1  san-port-channel211  200  0xa10000  10:00:00:10:9b:22:5b:4d   \n",
      "2  san-port-channel211  200  0xa10021  20:00:7c:31:0e:8f:c7:c9   \n",
      "3  san-port-channel212  200  0xa10040  20:00:7c:31:0e:8f:c7:cb   \n",
      "4               vfc213  200  0xa10001  20:00:a8:b4:56:50:bc:be   \n",
      "\n",
      "                 NODE NAME  \n",
      "0  50:06:01:60:be:e0:20:f9  \n",
      "1  20:00:00:10:9b:22:5b:4d  \n",
      "2  10:00:7c:31:0e:8f:c7:c9  \n",
      "3  10:00:7c:31:0e:8f:c7:cb  \n",
      "4  10:00:a8:b4:56:50:bc:be  \n"
     ]
    }
   ],
   "source": [
    "switch.show_flogi_database(vsan = vsan)"
   ]
  },
  {
   "cell_type": "code",
   "execution_count": 19,
   "metadata": {},
   "outputs": [],
   "source": [
    "# See https://neo4j.com/developer/aura-connect-driver/ for Aura specific connection URL.\n",
    "scheme = \"neo4j\"  # Connecting to Aura, use the \"neo4j+s\" URI scheme\n",
    "host_name = \"localhost\"\n",
    "port = 7687\n",
    "url = \"{scheme}://{host_name}:{port}\".format(scheme=scheme, host_name=host_name, port=port)\n",
    "user = \"admin\"\n",
    "password = \"admin\"\n",
    "app = App(url, user, password)"
   ]
  },
  {
   "cell_type": "code",
   "execution_count": 20,
   "metadata": {},
   "outputs": [
    {
     "name": "stdout",
     "output_type": "stream",
     "text": [
      "Switch Name :  HW-Core-2\n",
      "Management IP : 10.127.190.134 Password : nbv_12345\n",
      "Description :  \"Nexus9000 C93180YC-FX Chassis\"\n",
      "\n",
      "Fetching fc interfaces...\n",
      "fc1/1       200    F      on      trunking     swl   TF     32     211      \n",
      "\n",
      "fc1/2       200    F      on      trunking     swl   TF     32     211      \n",
      "\n",
      "fc1/3       200    F      on      trunking     swl   TF     32     211      \n",
      "\n",
      "fc1/4       200    F      on      trunking     swl   TF     32     211      \n",
      "\n",
      "fc1/5       200    F      on      trunking     swl   TF     32     211      \n",
      "\n",
      "fc1/6       200    F      on      trunking     swl   TF     32     211      \n",
      "\n",
      "fc1/7       200    F      on      trunking     swl   TF     32     211      \n",
      "\n",
      "fc1/8       200    F      on      trunking     swl   TF     32     211      \n",
      "\n",
      "fc1/13      200    auto   on      up           swl   F      4      --       \n",
      "\n",
      "fc1/14      1      auto   on      down         lwcr   --    --     --       \n",
      "\n",
      "fc1/15      1      auto   on      sfpAbsent    --     --    --     --       \n",
      "\n",
      "fc1/16      1      auto   on      down         swl    --    --     --       \n",
      "\n",
      "fc1/17      200    F      on      trunking     swl   TF     16     212      \n",
      "\n",
      "fc1/18      200    F      on      trunking     swl   TF     16     212      \n",
      "\n",
      "fc1/19      200    F      on      trunking     swl   TF     16     212      \n",
      "\n",
      "fc1/20      200    F      on      trunking     swl   TF     16     212      \n",
      "\n",
      "fc1/21      200    F      on      trunking     swl   TF     16     212      \n",
      "\n",
      "fc1/22      200    F      on      trunking     swl   TF     16     212      \n",
      "\n",
      "fc1/23      200    F      on      trunking     swl   TF     16     212      \n",
      "\n",
      "fc1/24      200    F      on      trunking     swl   TF     16     212      \n",
      "\n",
      "fc1/33      1      auto   on      down         swl    --    --     --       \n",
      "\n",
      "fc1/34      1      auto   on      down         swl    --    --     --       \n",
      "\n",
      "fc1/35      1      auto   on      down         lwcr   --    --     --       \n",
      "\n",
      "fc1/36      1      auto   on      down         lwcr   --    --     --       \n",
      "\n",
      "Creating ports from HW-Core-2, interface : fc1/1\n",
      "Creating ports from HW-Core-2, interface : fc1/2\n",
      "Creating ports from HW-Core-2, interface : fc1/3\n",
      "Creating ports from HW-Core-2, interface : fc1/4\n",
      "Creating ports from HW-Core-2, interface : fc1/5\n",
      "Creating ports from HW-Core-2, interface : fc1/6\n",
      "Creating ports from HW-Core-2, interface : fc1/7\n",
      "Creating ports from HW-Core-2, interface : fc1/8\n",
      "Creating ports from HW-Core-2, interface : fc1/13\n",
      "Creating ports from HW-Core-2, interface : fc1/14\n",
      "Creating ports from HW-Core-2, interface : fc1/15\n",
      "Creating ports from HW-Core-2, interface : fc1/16\n",
      "Creating ports from HW-Core-2, interface : fc1/17\n",
      "Creating ports from HW-Core-2, interface : fc1/18\n",
      "Creating ports from HW-Core-2, interface : fc1/19\n",
      "Creating ports from HW-Core-2, interface : fc1/20\n",
      "Creating ports from HW-Core-2, interface : fc1/21\n",
      "Creating ports from HW-Core-2, interface : fc1/22\n",
      "Creating ports from HW-Core-2, interface : fc1/23\n",
      "Creating ports from HW-Core-2, interface : fc1/24\n",
      "Creating ports from HW-Core-2, interface : fc1/33\n",
      "Creating ports from HW-Core-2, interface : fc1/34\n",
      "Creating ports from HW-Core-2, interface : fc1/35\n",
      "Creating ports from HW-Core-2, interface : fc1/36\n",
      "Fetching vfc interfaces...\n",
      "vfc213      200    F      on      trunking     port-channel213  TF     40     \n",
      "\n",
      "Creating ports from HW-Core-2, interface : vfc213\n",
      "Fetching san-port-channel interfaces...\n",
      "san-port-channel211   200   on     trunking       TF   256     --              \n",
      "\n",
      "san-port-channel212   200   on     trunking       TF   128     --              \n",
      "\n",
      "Creating ports from HW-Core-2, interface : san-port-channel211\n",
      "Creating ports from HW-Core-2, interface : san-port-channel212\n"
     ]
    }
   ],
   "source": [
    "for switch in fabric.devices:\n",
    "    switch.print_details()\n",
    "    if 'MDS' in switch.descr:\n",
    "        continue\n",
    "    switch.show_int_brief_fc()\n",
    "    for interface in switch.fc_interface:\n",
    "        print ('Creating ports from {0}, interface : {1}'.format(switch.switchname, interface))\n",
    "        app.create_port_node(switch.switchname, interface)\n",
    "        \n",
    "    switch.show_int_brief_vfc()\n",
    "    for interface in switch.vfc_interface:\n",
    "        print ('Creating ports from {0}, interface : {1}'.format(switch.switchname, interface))\n",
    "        app.create_port_node(switch.switchname, interface)\n",
    "        \n",
    "    switch.show_int_brief_sanpo()\n",
    "    for interface in switch.sanpo_interface:\n",
    "        print ('Creating ports from {0}, interface : {1}'.format(switch.switchname, interface))\n",
    "        app.create_port_node(switch.switchname, interface)"
   ]
  },
  {
   "cell_type": "code",
   "execution_count": 21,
   "metadata": {},
   "outputs": [
    {
     "data": {
      "text/plain": [
       "\"\\nfor switch in fabric.devices:\\n    switchname = switch.switchname\\n    print(switch.switchname, switch.mgmt_ip)\\n    peers = switch.get_topology(vsan = 1000)\\n    print(peers.head())\\n    for i in range(peers.shape[0]):\\n        peer_switch = peers['Switch Name'][i]\\n        app.create_link(switchname, peer_switch, 'E')\\n\""
      ]
     },
     "execution_count": 21,
     "metadata": {},
     "output_type": "execute_result"
    }
   ],
   "source": [
    "# Not supporting E links currently\n",
    "'''\n",
    "for switch in fabric.devices:\n",
    "    switchname = switch.switchname\n",
    "    print(switch.switchname, switch.mgmt_ip)\n",
    "    peers = switch.get_topology(vsan = 1000)\n",
    "    print(peers.head())\n",
    "    for i in range(peers.shape[0]):\n",
    "        peer_switch = peers['Switch Name'][i]\n",
    "        app.create_link(switchname, peer_switch, 'E')\n",
    "'''\n"
   ]
  },
  {
   "cell_type": "code",
   "execution_count": 22,
   "metadata": {},
   "outputs": [
    {
     "name": "stdout",
     "output_type": "stream",
     "text": [
      "             Interface VSAN      FCID                PORT NAME  \\\n",
      "0               fc1/13  200  0xa100ef  50:06:01:68:3e:e0:20:f9   \n",
      "1  san-port-channel211  200  0xa10000  10:00:00:10:9b:22:5b:4d   \n",
      "2  san-port-channel211  200  0xa10021  20:00:7c:31:0e:8f:c7:c9   \n",
      "3  san-port-channel212  200  0xa10040  20:00:7c:31:0e:8f:c7:cb   \n",
      "4               vfc213  200  0xa10001  20:00:a8:b4:56:50:bc:be   \n",
      "\n",
      "                 NODE NAME  \n",
      "0  50:06:01:60:be:e0:20:f9  \n",
      "1  20:00:00:10:9b:22:5b:4d  \n",
      "2  10:00:7c:31:0e:8f:c7:c9  \n",
      "3  10:00:7c:31:0e:8f:c7:cb  \n",
      "4  10:00:a8:b4:56:50:bc:be  \n"
     ]
    }
   ],
   "source": [
    "for switch in fabric.devices:\n",
    "    switchname = switch.switchname\n",
    "    flogi_df = switch.get_flogi_database(vsan = vsan)\n",
    "    print(flogi_df.head())\n",
    "    for i in range(flogi_df.shape[0]):\n",
    "        fcid = flogi_df['FCID'][i]\n",
    "        port = flogi_df['Interface'][i]\n",
    "        switchname_port = switchname + '_' + port\n",
    "        app.create_link(switchname_port, fcid, 'N')"
   ]
  },
  {
   "cell_type": "code",
   "execution_count": 23,
   "metadata": {},
   "outputs": [
    {
     "name": "stdout",
     "output_type": "stream",
     "text": [
      "Getting active zoneset info for vsan 200\n",
      "Active Zoneset : SaintArcher_zoneset2\n",
      "Iterating over devices under zone emulex_host\n",
      "Creating virtual link between HW-Core-2_san-port-channel211 and HW-Core-2_fc1/13\n",
      "Iterating over devices under zone cisco_10G_host\n",
      "Creating virtual link between HW-Core-2_san-port-channel211 and HW-Core-2_fc1/13\n",
      "Iterating over devices under zone cisco_40G_host\n",
      "Creating virtual link between HW-Core-2_vfc213 and HW-Core-2_fc1/13\n",
      "Iterating over devices under zone cisco_25G_host\n",
      "Creating virtual link between HW-Core-2_san-port-channel212 and HW-Core-2_fc1/13\n"
     ]
    }
   ],
   "source": [
    "# Getting zone config\n",
    "zone_dict = switch.get_zoneset_active(vsan = vsan)\n",
    "zone_df = pd.DataFrame.from_dict(zone_dict, orient = 'index')\n",
    "\n",
    "for index, row in zone_df.iterrows(): \n",
    "    print('Iterating over devices under zone {}'.format(index))\n",
    "    concerned_ports = []\n",
    "    for i in range(len(row)):\n",
    "        if row[i][0] == 'fcid':\n",
    "            switch_port = get_switch_port(fabric, vsan, row[i][1])\n",
    "            #print(row[i][1], switch_port)\n",
    "            concerned_ports.append(switch_port)\n",
    "        elif row[i][1] == 'pwwn':\n",
    "            pass\n",
    "        elif row[i][1] == 'fwwn':\n",
    "            pass\n",
    "        elif row[i][1] == 'device-alias':\n",
    "            pass\n",
    "        elif row[i][1] == 'fcalias':\n",
    "            pass\n",
    "    \n",
    "    #Now, create links between all the devices under the same zone.\n",
    "    for i in range(len(concerned_ports)):\n",
    "        for j in range(i+1, len(concerned_ports)):\n",
    "            print('Creating virtual link between {} and {}'.format(concerned_ports[i], concerned_ports[j]))\n",
    "            app.create_link(concerned_ports[i], concerned_ports[j], 'V')\n",
    "            "
   ]
  },
  {
   "cell_type": "code",
   "execution_count": 24,
   "metadata": {},
   "outputs": [],
   "source": [
    "app.close()"
   ]
  }
 ],
 "metadata": {
  "kernelspec": {
   "display_name": "Python 3",
   "language": "python",
   "name": "python3"
  },
  "language_info": {
   "codemirror_mode": {
    "name": "ipython",
    "version": 3
   },
   "file_extension": ".py",
   "mimetype": "text/x-python",
   "name": "python",
   "nbconvert_exporter": "python",
   "pygments_lexer": "ipython3",
   "version": "3.8.5"
  }
 },
 "nbformat": 4,
 "nbformat_minor": 2
}
