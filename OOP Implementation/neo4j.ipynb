{
 "cells": [
  {
   "cell_type": "code",
   "execution_count": 6,
   "metadata": {},
   "outputs": [
    {
     "name": "stdout",
     "output_type": "stream",
     "text": [
      "Created friendship between: Alice, David\n",
      "Found person: Alice\n",
      "Found person: Alice\n"
     ]
    }
   ],
   "source": [
    "import logging\n",
    "from neo4j import GraphDatabase\n",
    "from neo4j.exceptions import ServiceUnavailable\n",
    "\n",
    "class App:\n",
    "\n",
    "    def __init__(self, uri, user, password):\n",
    "        self.driver = GraphDatabase.driver(uri, auth=(user, password))\n",
    "\n",
    "    def close(self):\n",
    "        # Don't forget to close the driver connection when you are finished with it\n",
    "        self.driver.close()\n",
    "\n",
    "    def create_link(self, switch, device):\n",
    "        with self.driver.session() as session:\n",
    "            # Write transactions allow the driver to handle retries and transient errors\n",
    "            result = session.write_transaction(\n",
    "                self._create_and_return_link, switch, device)\n",
    "            for record in result:\n",
    "                print(\"Created friendship between: {p1}, {p2}\".format(\n",
    "                    p1=record['p1'], p2=record['p2']))\n",
    "\n",
    "    @staticmethod\n",
    "    def _create_and_return_link(tx, switch, device):\n",
    "\n",
    "        # To learn more about the Cypher syntax,\n",
    "        # see https://neo4j.com/docs/cypher-manual/current/\n",
    "\n",
    "        # The Reference Card is also a good resource for keywords,\n",
    "        # see https://neo4j.com/docs/cypher-refcard/current/\n",
    "\n",
    "        query = (\n",
    "            \"CREATE (p1:Switch { name: $switchname }) \"\n",
    "            \"CREATE (p2:Device { name: $flogi }) \"\n",
    "            \"CREATE (p1)-[:FLOGI]->(p2) \"\n",
    "            \"RETURN p1, p2\"\n",
    "        )\n",
    "        result = tx.run(query, switchname=swittchname, flogi=flogi)\n",
    "        try:\n",
    "            return [{\"p1\": record[\"p1\"][\"name\"], \"p2\": record[\"p2\"][\"name\"]}\n",
    "                    for record in result]\n",
    "        # Capture any errors along with the query and data for traceability\n",
    "        except ServiceUnavailable as exception:\n",
    "            logging.error(\"{query} raised an error: \\n {exception}\".format(\n",
    "                query=query, exception=exception))\n",
    "            raise\n",
    "\n",
    "    def find_switch(self, switchname):\n",
    "        with self.driver.session() as session:\n",
    "            result = session.read_transaction(self._find_and_return_switch, switchname)\n",
    "            for record in result:\n",
    "                print(\"Found switch: {record}\".format(record=record))\n",
    "\n",
    "    @staticmethod\n",
    "    def _find_and_return_switch(tx, person_name):\n",
    "        query = (\n",
    "            \"MATCH (p:Switch) \"\n",
    "            \"WHERE p.name = $switchname \"\n",
    "            \"RETURN p.name AS switchname\"\n",
    "        )\n",
    "        result = tx.run(query, switchname=switchname)\n",
    "        return [record[\"name\"] for record in result]\n",
    "\n",
    "if __name__ == \"__main__\":\n",
    "    # See https://neo4j.com/developer/aura-connect-driver/ for Aura specific connection URL.\n",
    "    scheme = \"neo4j\"  # Connecting to Aura, use the \"neo4j+s\" URI scheme\n",
    "    host_name = \"localhost\"\n",
    "    port = 7687\n",
    "    url = \"{scheme}://{host_name}:{port}\".format(scheme=scheme, host_name=host_name, port=port)\n",
    "    user = \"admin\"\n",
    "    password = \"admin\"\n",
    "    app = App(url, user, password)\n",
    "    app.create_link(switchname, device)\n",
    "    app.find_switch(switchname)\n",
    "    app.close()"
   ]
  },
  {
   "cell_type": "code",
   "execution_count": null,
   "metadata": {},
   "outputs": [],
   "source": []
  }
 ],
 "metadata": {
  "kernelspec": {
   "display_name": "Python 3",
   "language": "python",
   "name": "python3"
  },
  "language_info": {
   "codemirror_mode": {
    "name": "ipython",
    "version": 3
   },
   "file_extension": ".py",
   "mimetype": "text/x-python",
   "name": "python",
   "nbconvert_exporter": "python",
   "pygments_lexer": "ipython3",
   "version": "3.7.4"
  }
 },
 "nbformat": 4,
 "nbformat_minor": 2
}
