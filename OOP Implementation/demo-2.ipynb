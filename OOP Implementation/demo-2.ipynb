{
 "cells": [
  {
   "cell_type": "code",
   "execution_count": 1,
   "metadata": {},
   "outputs": [
    {
     "name": "stdout",
     "output_type": "stream",
     "text": [
      "    Management IP   Password\n",
      "0   10.127.119.83   nbv_3124\n",
      "1  10.127.119.103   nbv_3124\n",
      "2   10.127.119.84   nbv_3124\n",
      "3   10.127.119.98   nbv_3124\n",
      "4  10.127.125.228  nbv_12345\n"
     ]
    }
   ],
   "source": [
    "from sapphire import *"
   ]
  },
  {
   "cell_type": "code",
   "execution_count": 2,
   "metadata": {},
   "outputs": [
    {
     "name": "stdout",
     "output_type": "stream",
     "text": [
      "Paramiko client created successfully :  <paramiko.client.SSHClient object at 0x7fbd7b8c0bb0>\n",
      "Switch object created with paramiko client in-built.\n"
     ]
    }
   ],
   "source": [
    "mgmt_ip = '10.127.125.219'\n",
    "\n",
    "mgmt_ip = '10.127.190.134'\n",
    "password = 'nbv_12345'\n",
    "\n",
    "switch = Switch(mgmt_ip, password)\n",
    "vsan = 200"
   ]
  },
  {
   "cell_type": "code",
   "execution_count": 3,
   "metadata": {},
   "outputs": [
    {
     "data": {
      "text/plain": [
       "<sapphire.Switch at 0x7fbd7b8c0a60>"
      ]
     },
     "execution_count": 3,
     "metadata": {},
     "output_type": "execute_result"
    }
   ],
   "source": [
    "switch"
   ]
  },
  {
   "cell_type": "code",
   "execution_count": 4,
   "metadata": {},
   "outputs": [
    {
     "name": "stdout",
     "output_type": "stream",
     "text": [
      "Fabric object initialized\n"
     ]
    }
   ],
   "source": [
    "fabric = Fabric(switch)"
   ]
  },
  {
   "cell_type": "code",
   "execution_count": 5,
   "metadata": {},
   "outputs": [],
   "source": [
    "fabric.search_devices(vsan = vsan)"
   ]
  },
  {
   "cell_type": "code",
   "execution_count": 6,
   "metadata": {},
   "outputs": [
    {
     "name": "stdout",
     "output_type": "stream",
     "text": [
      "Getting active zoneset info for vsan 200\n",
      "Active Zoneset : SaintArcher_zoneset2\n",
      "{'emulex_host': [('fcid', '0xa10000'), ('fcid', '0xa100ef')], 'cisco_10G_host': [('fcid', '0xa10021'), ('fcid', '0xa100ef')], 'cisco_40G_host': [('fcid', '0xa10001'), ('fcid', '0xa100ef')], 'cisco_25G_host': [('fcid', '0xa10040'), ('fcid', '0xa100ef')]}\n"
     ]
    }
   ],
   "source": [
    "zone_dict = switch.get_zoneset_active(vsan = vsan)\n",
    "print(zone_dict)"
   ]
  },
  {
   "cell_type": "code",
   "execution_count": 7,
   "metadata": {},
   "outputs": [
    {
     "data": {
      "text/html": [
       "<div>\n",
       "<style scoped>\n",
       "    .dataframe tbody tr th:only-of-type {\n",
       "        vertical-align: middle;\n",
       "    }\n",
       "\n",
       "    .dataframe tbody tr th {\n",
       "        vertical-align: top;\n",
       "    }\n",
       "\n",
       "    .dataframe thead th {\n",
       "        text-align: right;\n",
       "    }\n",
       "</style>\n",
       "<table border=\"1\" class=\"dataframe\">\n",
       "  <thead>\n",
       "    <tr style=\"text-align: right;\">\n",
       "      <th></th>\n",
       "      <th>0</th>\n",
       "      <th>1</th>\n",
       "    </tr>\n",
       "  </thead>\n",
       "  <tbody>\n",
       "    <tr>\n",
       "      <th>emulex_host</th>\n",
       "      <td>(fcid, 0xa10000)</td>\n",
       "      <td>(fcid, 0xa100ef)</td>\n",
       "    </tr>\n",
       "    <tr>\n",
       "      <th>cisco_10G_host</th>\n",
       "      <td>(fcid, 0xa10021)</td>\n",
       "      <td>(fcid, 0xa100ef)</td>\n",
       "    </tr>\n",
       "    <tr>\n",
       "      <th>cisco_40G_host</th>\n",
       "      <td>(fcid, 0xa10001)</td>\n",
       "      <td>(fcid, 0xa100ef)</td>\n",
       "    </tr>\n",
       "    <tr>\n",
       "      <th>cisco_25G_host</th>\n",
       "      <td>(fcid, 0xa10040)</td>\n",
       "      <td>(fcid, 0xa100ef)</td>\n",
       "    </tr>\n",
       "  </tbody>\n",
       "</table>\n",
       "</div>"
      ],
      "text/plain": [
       "                               0                 1\n",
       "emulex_host     (fcid, 0xa10000)  (fcid, 0xa100ef)\n",
       "cisco_10G_host  (fcid, 0xa10021)  (fcid, 0xa100ef)\n",
       "cisco_40G_host  (fcid, 0xa10001)  (fcid, 0xa100ef)\n",
       "cisco_25G_host  (fcid, 0xa10040)  (fcid, 0xa100ef)"
      ]
     },
     "execution_count": 7,
     "metadata": {},
     "output_type": "execute_result"
    }
   ],
   "source": [
    "zone_df = pd.DataFrame.from_dict(zone_dict, orient = 'index')\n",
    "zone_df.head(df.shape[0])"
   ]
  },
  {
   "cell_type": "code",
   "execution_count": 8,
   "metadata": {},
   "outputs": [],
   "source": [
    "flogi_df = switch.get_flogi_database(vsan)"
   ]
  },
  {
   "cell_type": "code",
   "execution_count": 9,
   "metadata": {},
   "outputs": [
    {
     "name": "stdout",
     "output_type": "stream",
     "text": [
      "             Interface VSAN      FCID                PORT NAME  \\\n",
      "0               fc1/13  200  0xa100ef  50:06:01:68:3e:e0:20:f9   \n",
      "1  san-port-channel211  200  0xa10000  10:00:00:10:9b:22:5b:4d   \n",
      "2  san-port-channel211  200  0xa10021  20:00:7c:31:0e:8f:c7:c9   \n",
      "3  san-port-channel212  200  0xa10040  20:00:7c:31:0e:8f:c7:cb   \n",
      "4               vfc213  200  0xa10001  20:00:a8:b4:56:50:bc:be   \n",
      "\n",
      "                 NODE NAME  \n",
      "0  50:06:01:60:be:e0:20:f9  \n",
      "1  20:00:00:10:9b:22:5b:4d  \n",
      "2  10:00:7c:31:0e:8f:c7:c9  \n",
      "3  10:00:7c:31:0e:8f:c7:cb  \n",
      "4  10:00:a8:b4:56:50:bc:be  \n"
     ]
    }
   ],
   "source": [
    "switch.show_flogi_database(vsan)"
   ]
  },
  {
   "cell_type": "code",
   "execution_count": 10,
   "metadata": {},
   "outputs": [
    {
     "data": {
      "text/plain": [
       "array(['san-port-channel212'], dtype=object)"
      ]
     },
     "execution_count": 10,
     "metadata": {},
     "output_type": "execute_result"
    }
   ],
   "source": [
    "flogi_df.loc[flogi_df['FCID'] == '0xa10040']['Interface'].values"
   ]
  },
  {
   "cell_type": "code",
   "execution_count": 11,
   "metadata": {},
   "outputs": [],
   "source": [
    "# See https://neo4j.com/developer/aura-connect-driver/ for Aura specific connection URL.\n",
    "scheme = \"neo4j\"  # Connecting to Aura, use the \"neo4j+s\" URI scheme\n",
    "host_name = \"localhost\"\n",
    "port = 7687\n",
    "url = \"{scheme}://{host_name}:{port}\".format(scheme=scheme, host_name=host_name, port=port)\n",
    "user = \"admin\"\n",
    "password = \"admin\"\n",
    "app = App(url, user, password)"
   ]
  },
  {
   "cell_type": "code",
   "execution_count": 12,
   "metadata": {},
   "outputs": [
    {
     "name": "stdout",
     "output_type": "stream",
     "text": [
      "Iterating over devices under zone emulex_host\n",
      "Creating virtual link between HW-Core-2_san-port-channel211 and HW-Core-2_fc1/13\n",
      "Iterating over devices under zone cisco_10G_host\n",
      "Creating virtual link between HW-Core-2_san-port-channel211 and HW-Core-2_fc1/13\n",
      "Iterating over devices under zone cisco_40G_host\n",
      "Creating virtual link between HW-Core-2_vfc213 and HW-Core-2_fc1/13\n",
      "Iterating over devices under zone cisco_25G_host\n",
      "Creating virtual link between HW-Core-2_san-port-channel212 and HW-Core-2_fc1/13\n"
     ]
    }
   ],
   "source": [
    "def get_switch_port(fabric, fcid):\n",
    "    #print('Getting switch_port for fcid {}'.format(fcid))\n",
    "    for switch in fabric.devices:\n",
    "        #print('Searching for FCID {} in switch {}'.format(fcid, switch.switchname))\n",
    "        flogi_df = switch.get_flogi_database(vsan)\n",
    "        port = flogi_df.loc[flogi_df['FCID'] == fcid]['Interface'].values\n",
    "        if len(port) == 1:\n",
    "            #print('FCID found')\n",
    "            switch_port = switch.switchname + '_' + port[0]\n",
    "            break\n",
    "        else:\n",
    "            #print('FCID {} not found, going to next switch...')\n",
    "            continue\n",
    "    return switch_port\n",
    "    \n",
    "for index, row in zone_df.iterrows(): \n",
    "    print('Iterating over devices under zone {}'.format(index))\n",
    "    concerned_ports = []\n",
    "    for i in range(len(row)):\n",
    "        if row[i][0] == 'fcid':\n",
    "            switch_port = get_switch_port(fabric, row[i][1])\n",
    "            #print(row[i][1], switch_port)\n",
    "            concerned_ports.append(switch_port)\n",
    "        elif row[i][1] == 'pwwn':\n",
    "            pass\n",
    "        elif row[i][1] == 'fwwn':\n",
    "            pass\n",
    "        elif row[i][1] == 'device-alias':\n",
    "            pass\n",
    "        elif row[i][1] == 'fcalias':\n",
    "            pass\n",
    "    \n",
    "    #Now, create links between all the devices under the same zone.\n",
    "    for i in range(len(concerned_ports)):\n",
    "        for j in range(i+1, len(concerned_ports)):\n",
    "            print('Creating virtual link between {} and {}'.format(concerned_ports[i], concerned_ports[j]))\n",
    "            app.create_link(concerned_ports[i], concerned_ports[j], 'V')\n",
    "            \n",
    "    \n",
    "            "
   ]
  },
  {
   "cell_type": "code",
   "execution_count": 13,
   "metadata": {},
   "outputs": [],
   "source": [
    "app.close()"
   ]
  },
  {
   "cell_type": "code",
   "execution_count": null,
   "metadata": {},
   "outputs": [],
   "source": []
  }
 ],
 "metadata": {
  "kernelspec": {
   "display_name": "Python 3",
   "language": "python",
   "name": "python3"
  },
  "language_info": {
   "codemirror_mode": {
    "name": "ipython",
    "version": 3
   },
   "file_extension": ".py",
   "mimetype": "text/x-python",
   "name": "python",
   "nbconvert_exporter": "python",
   "pygments_lexer": "ipython3",
   "version": "3.8.5"
  }
 },
 "nbformat": 4,
 "nbformat_minor": 2
}
