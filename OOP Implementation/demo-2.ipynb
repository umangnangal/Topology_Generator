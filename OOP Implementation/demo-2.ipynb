{
 "cells": [
  {
   "cell_type": "code",
   "execution_count": 1,
   "metadata": {},
   "outputs": [
    {
     "name": "stdout",
     "output_type": "stream",
     "text": [
      "     Management IP   Password\n",
      "0    10.127.119.83   nbv_3124\n",
      "1   10.127.119.103   nbv_3124\n",
      "2    10.127.119.84   nbv_3124\n",
      "3    10.127.119.98   nbv_3124\n",
      "4   10.127.125.228  nbv_12345\n",
      "5   10.127.125.229  nbv_12345\n",
      "6   10.127.125.230  nbv_12345\n",
      "7   10.127.125.239  nbv_12345\n",
      "8    172.25.169.24  nbv_12345\n",
      "9   172.25.169.251  nbv_12345\n",
      "10   172.25.169.12  nbv_12345\n",
      "11  172.25.169.253  nbv_12345\n",
      "12  172.25.169.250  nbv_12345\n",
      "13  172.25.169.239  nbv_12345\n",
      "{'10.127.119.83': 'nbv_3124', '10.127.119.103': 'nbv_3124', '10.127.119.84': 'nbv_3124', '10.127.119.98': 'nbv_3124', '10.127.125.228': 'nbv_12345', '10.127.125.229': 'nbv_12345', '10.127.125.230': 'nbv_12345', '10.127.125.239': 'nbv_12345', '172.25.169.24': 'nbv_12345', '172.25.169.251': 'nbv_12345', '172.25.169.12': 'nbv_12345', '172.25.169.253': 'nbv_12345', '172.25.169.250': 'nbv_12345', '172.25.169.239': 'nbv_12345'}\n"
     ]
    }
   ],
   "source": [
    "from sapphire import *"
   ]
  },
  {
   "cell_type": "code",
   "execution_count": 2,
   "metadata": {},
   "outputs": [
    {
     "name": "stdout",
     "output_type": "stream",
     "text": [
      "Paramiko client created successfully :  <paramiko.client.SSHClient object at 0x7fccd29d1be0>\n",
      "Switch object created with paramiko client in-built.\n"
     ]
    }
   ],
   "source": [
    "mgmt_ip = '10.127.190.136'\n",
    "password = 'nbv_12345'\n",
    "\n",
    "mgmt_ip = '10.127.125.228'\n",
    "password = 'nbv_12345'\n",
    "\n",
    "mgmt_ip = '10.127.119.98'\n",
    "password = 'nbv_3124'\n",
    "\n",
    "mgmt_ip = '172.25.169.24'\n",
    "password = 'nbv_12345'\n",
    "\n",
    "switch = Switch(mgmt_ip, password)"
   ]
  },
  {
   "cell_type": "code",
   "execution_count": 3,
   "metadata": {},
   "outputs": [
    {
     "data": {
      "text/plain": [
       "<sapphire.Switch at 0x7fccd29d1b80>"
      ]
     },
     "execution_count": 3,
     "metadata": {},
     "output_type": "execute_result"
    }
   ],
   "source": [
    "switch"
   ]
  },
  {
   "cell_type": "code",
   "execution_count": 4,
   "metadata": {},
   "outputs": [
    {
     "name": "stdout",
     "output_type": "stream",
     "text": [
      "Fabric object initialized\n"
     ]
    }
   ],
   "source": [
    "fabric = Fabric(switch)"
   ]
  },
  {
   "cell_type": "code",
   "execution_count": 5,
   "metadata": {},
   "outputs": [
    {
     "name": "stdout",
     "output_type": "stream",
     "text": [
      "PEER IP = 172.25.169.251 SWITCHNAME = MDS9148S-169251\n",
      "Password fetched from provided file.\n",
      "Paramiko client created successfully :  <paramiko.client.SSHClient object at 0x7fccd29d1940>\n",
      "Switch object created with paramiko client in-built.\n",
      "Device succeesfully added to Fabric.\n",
      "PEER IP = 172.25.169.12 SWITCHNAME = MDS9706-16912\n",
      "Password fetched from provided file.\n",
      "Paramiko client created successfully :  <paramiko.client.SSHClient object at 0x7fccd2a1d6d0>\n",
      "Switch object created with paramiko client in-built.\n",
      "Device succeesfully added to Fabric.\n",
      "PEER IP = 172.25.169.24 SWITCHNAME = N9K-FX-16924\n",
      "Password fetched from provided file.\n",
      "Paramiko client created successfully :  <paramiko.client.SSHClient object at 0x7fccd2a467c0>\n",
      "Switch object created with paramiko client in-built.\n",
      "Device already present in the Fabric.\n",
      "PEER IP = 172.25.169.253 SWITCHNAME = MDS9222i-169253\n",
      "Password fetched from provided file.\n",
      "Paramiko client created successfully :  <paramiko.client.SSHClient object at 0x7fccd2a86640>\n",
      "Switch object created with paramiko client in-built.\n",
      "Device succeesfully added to Fabric.\n",
      "PEER IP = 172.25.169.250 SWITCHNAME = NetApp-9513-169250\n",
      "Password fetched from provided file.\n",
      "Paramiko client created successfully :  <paramiko.client.SSHClient object at 0x7fccd2a66e50>\n",
      "Switch object created with paramiko client in-built.\n",
      "Device succeesfully added to Fabric.\n",
      "PEER IP = 172.25.169.239 SWITCHNAME = MDS9250i-169239\n",
      "Password fetched from provided file.\n",
      "Paramiko client created successfully :  <paramiko.client.SSHClient object at 0x7fccd2a66640>\n",
      "Switch object created with paramiko client in-built.\n",
      "Device succeesfully added to Fabric.\n",
      "PEER IP = 172.25.169.24 SWITCHNAME = N9K-FX-16924\n",
      "Password fetched from provided file.\n",
      "Paramiko client created successfully :  <paramiko.client.SSHClient object at 0x7fccd2a664c0>\n",
      "Switch object created with paramiko client in-built.\n",
      "Device already present in the Fabric.\n",
      "PEER IP = 172.25.169.251 SWITCHNAME = MDS9148S-169251\n",
      "Password fetched from provided file.\n",
      "Paramiko client created successfully :  <paramiko.client.SSHClient object at 0x7fccd2a8dac0>\n",
      "Switch object created with paramiko client in-built.\n",
      "Device already present in the Fabric.\n",
      "PEER IP = 172.25.169.250 SWITCHNAME = NetApp-9513-169250\n",
      "Password fetched from provided file.\n",
      "Paramiko client created successfully :  <paramiko.client.SSHClient object at 0x7fccd2a6d760>\n",
      "Switch object created with paramiko client in-built.\n",
      "Device already present in the Fabric.\n",
      "PEER IP = 172.25.169.253 SWITCHNAME = MDS9222i-169253\n",
      "Password fetched from provided file.\n",
      "Paramiko client created successfully :  <paramiko.client.SSHClient object at 0x7fccd2a9fe80>\n",
      "Switch object created with paramiko client in-built.\n",
      "Device already present in the Fabric.\n",
      "PEER IP = 172.25.169.251 SWITCHNAME = MDS9148S-169251\n",
      "Password fetched from provided file.\n",
      "Paramiko client created successfully :  <paramiko.client.SSHClient object at 0x7fccd2ab2160>\n",
      "Switch object created with paramiko client in-built.\n",
      "Device already present in the Fabric.\n",
      "PEER IP = 172.25.169.12 SWITCHNAME = MDS9706-16912\n",
      "Password fetched from provided file.\n",
      "Paramiko client created successfully :  <paramiko.client.SSHClient object at 0x7fccd2ad73d0>\n",
      "Switch object created with paramiko client in-built.\n",
      "Device already present in the Fabric.\n"
     ]
    }
   ],
   "source": [
    "fabric.search_devices(vsan = 1)"
   ]
  },
  {
   "cell_type": "code",
   "execution_count": 6,
   "metadata": {},
   "outputs": [],
   "source": [
    "# See https://neo4j.com/developer/aura-connect-driver/ for Aura specific connection URL.\n",
    "scheme = \"neo4j\"  # Connecting to Aura, use the \"neo4j+s\" URI scheme\n",
    "host_name = \"localhost\"\n",
    "port = 7687\n",
    "url = \"{scheme}://{host_name}:{port}\".format(scheme=scheme, host_name=host_name, port=port)\n",
    "user = \"admin\"\n",
    "password = \"admin\"\n",
    "app = App(url, user, password)"
   ]
  },
  {
   "cell_type": "code",
   "execution_count": 7,
   "metadata": {},
   "outputs": [
    {
     "name": "stdout",
     "output_type": "stream",
     "text": [
      "N9K-FX-16924 172.25.169.24\n",
      "  Interface VSAN      FCID                PORT NAME                NODE NAME\n",
      "0     fc1/1  101  0xe80000  21:00:00:0e:1e:09:b3:22  20:00:00:0e:1e:09:b3:22\n",
      "1     fc1/3  101  0xe80d00  21:00:00:0e:1e:09:b3:2d  20:00:00:0e:1e:09:b3:2d\n",
      "2     fc1/4  101  0xe80100  10:00:00:10:86:04:e0:ad  20:00:00:10:86:04:e0:ad\n",
      "3     fc1/6  101  0xe80900  21:00:00:24:ff:7e:e6:30  20:00:00:24:ff:7e:e6:30\n",
      "4     fc1/7  101  0xe80400  21:00:00:0e:1e:09:b3:00  20:00:00:0e:1e:09:b3:00\n",
      "MDS9148S-169251 172.25.169.251\n",
      "Empty DataFrame\n",
      "Columns: [Interface, VSAN, FCID, PORT NAME, NODE NAME]\n",
      "Index: []\n",
      "MDS9706-16912 172.25.169.12\n",
      "  Interface VSAN      FCID                PORT NAME                NODE NAME\n",
      "0     fc1/3  101  0x190601  20:01:00:a0:98:f4:1e:b2  20:02:00:a0:98:f4:1e:b2\n",
      "1     fc1/3  101  0x190602  50:0a:09:84:80:c2:f6:f6  50:0a:09:80:80:c2:f6:f6\n",
      "2     fc2/8  101  0x190560  50:0a:09:86:a0:e0:05:04  50:0a:09:80:80:e0:05:04\n",
      "3     fc2/8  101  0x190561  20:37:00:a0:98:9f:90:71  20:08:00:a0:98:9f:90:71\n",
      "4    fc2/17  101  0x1905a0  20:2f:2c:d0:2d:50:c1:44  20:65:2c:d0:2d:50:c1:45\n",
      "MDS9222i-169253 172.25.169.253\n",
      "Empty DataFrame\n",
      "Columns: [Interface, VSAN, FCID, PORT NAME, NODE NAME]\n",
      "Index: []\n",
      "NetApp-9513-169250 172.25.169.250\n",
      "Empty DataFrame\n",
      "Columns: [Interface, VSAN, FCID, PORT NAME, NODE NAME]\n",
      "Index: []\n",
      "MDS9250i-169239 172.25.169.239\n",
      "  Interface VSAN      FCID                PORT NAME                NODE NAME\n",
      "0     fc1/1  101  0x580100  21:00:00:0e:1e:09:b3:4d  20:00:00:0e:1e:09:b3:4d\n"
     ]
    }
   ],
   "source": [
    "for switch in fabric.devices:\n",
    "    switchname = switch.switchname\n",
    "    print(switch.switchname, switch.mgmt_ip)\n",
    "\n",
    "    peers = switch.get_topology(vsan = 101)\n",
    "    print(peers.head())\n",
    "    for i in range(peers.shape[0]):\n",
    "        peer_switch = peers['Switch Name'][i]\n",
    "        app.create_link(switchname, peer_switch, 'E')\n",
    "\n",
    "    flogis = switch.get_flogi_database(vsan = 101)\n",
    "    print(flogis.head())\n",
    "    for i in range(flogis.shape[0]):\n",
    "        fcid = flogis['FCID'][i]\n",
    "        app.create_link(switchname, fcid, 'N')"
   ]
  },
  {
   "cell_type": "code",
   "execution_count": 8,
   "metadata": {},
   "outputs": [],
   "source": [
    "app.close()"
   ]
  }
 ],
 "metadata": {
  "kernelspec": {
   "display_name": "Python 3",
   "language": "python",
   "name": "python3"
  },
  "language_info": {
   "codemirror_mode": {
    "name": "ipython",
    "version": 3
   },
   "file_extension": ".py",
   "mimetype": "text/x-python",
   "name": "python",
   "nbconvert_exporter": "python",
   "pygments_lexer": "ipython3",
   "version": "3.8.5"
  }
 },
 "nbformat": 4,
 "nbformat_minor": 2
}
