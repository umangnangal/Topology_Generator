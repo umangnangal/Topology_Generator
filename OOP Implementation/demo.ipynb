{
 "cells": [
  {
   "cell_type": "code",
   "execution_count": 1,
   "metadata": {},
   "outputs": [
    {
     "name": "stdout",
     "output_type": "stream",
     "text": [
      "    Management IP   Password\n",
      "0   10.127.119.83   nbv_3124\n",
      "1  10.127.119.103   nbv_3124\n",
      "2   10.127.119.84   nbv_3124\n",
      "3   10.127.119.98   nbv_3124\n",
      "4  10.127.125.228  nbv_12345\n",
      "5  10.127.125.229  nbv_12345\n",
      "6  10.127.125.230  nbv_12345\n",
      "7  10.127.125.239  nbv_12345\n",
      "{'10.127.119.83': 'nbv_3124', '10.127.119.103': 'nbv_3124', '10.127.119.84': 'nbv_3124', '10.127.119.98': 'nbv_3124', '10.127.125.228': 'nbv_12345', '10.127.125.229': 'nbv_12345', '10.127.125.230': 'nbv_12345', '10.127.125.239': 'nbv_12345'}\n"
     ]
    }
   ],
   "source": [
    "from sapphire import *"
   ]
  },
  {
   "cell_type": "code",
   "execution_count": 2,
   "metadata": {},
   "outputs": [
    {
     "name": "stdout",
     "output_type": "stream",
     "text": [
      "Paramiko client created successfully :  <paramiko.client.SSHClient object at 0x7fb00226a410>\n",
      "Switch object created with paramiko client in-built.\n"
     ]
    }
   ],
   "source": [
    "mgmt_ip = '10.127.190.136'\n",
    "password = 'nbv_12345'\n",
    "\n",
    "mgmt_ip = '10.127.125.228'\n",
    "password = 'nbv_12345'\n",
    "\n",
    "mgmt_ip = '10.127.119.98'\n",
    "password = 'nbv_3124'\n",
    "\n",
    "switch = Switch(mgmt_ip, password)"
   ]
  },
  {
   "cell_type": "code",
   "execution_count": 3,
   "metadata": {},
   "outputs": [
    {
     "data": {
      "text/plain": [
       "<sapphire.Switch at 0x7fb00226a3d0>"
      ]
     },
     "execution_count": 3,
     "metadata": {},
     "output_type": "execute_result"
    }
   ],
   "source": [
    "switch"
   ]
  },
  {
   "cell_type": "code",
   "execution_count": 4,
   "metadata": {},
   "outputs": [
    {
     "name": "stdout",
     "output_type": "stream",
     "text": [
      "Fabric object initialized\n"
     ]
    }
   ],
   "source": [
    "fabric = Fabric(switch)"
   ]
  },
  {
   "cell_type": "code",
   "execution_count": 5,
   "metadata": {},
   "outputs": [
    {
     "name": "stdout",
     "output_type": "stream",
     "text": [
      "PEER IP = 10.127.119.84 SWITCHNAME = sw1\n",
      "Password fetched from provided file.\n",
      "Paramiko client created successfully :  <paramiko.client.SSHClient object at 0x7fb002296810>\n",
      "Switch object created with paramiko client in-built.\n",
      "Device succeesfully added to Fabric.\n",
      "PEER IP = 10.127.119.103 SWITCHNAME = sw2\n",
      "Password fetched from provided file.\n",
      "Paramiko client created successfully :  <paramiko.client.SSHClient object at 0x7fb002500550>\n",
      "Switch object created with paramiko client in-built.\n",
      "Device succeesfully added to Fabric.\n",
      "PEER IP = 10.127.119.98 SWITCHNAME = sw3\n",
      "Password fetched from provided file.\n",
      "Paramiko client created successfully :  <paramiko.client.SSHClient object at 0x7fb00252b2d0>\n",
      "Switch object created with paramiko client in-built.\n",
      "Device already present in the Fabric.\n",
      "PEER IP = 10.127.119.84 SWITCHNAME = sw1\n",
      "Password fetched from provided file.\n",
      "Paramiko client created successfully :  <paramiko.client.SSHClient object at 0x7fb00253fe50>\n",
      "Switch object created with paramiko client in-built.\n",
      "Device already present in the Fabric.\n"
     ]
    }
   ],
   "source": [
    "fabric.search_devices()"
   ]
  },
  {
   "cell_type": "code",
   "execution_count": 6,
   "metadata": {},
   "outputs": [
    {
     "name": "stdout",
     "output_type": "stream",
     "text": [
      "Switch Name :  sw3\n",
      "Management IP : 10.127.119.98 Password : nbv_3124\n",
      "Description :  \"Nexus9000 C93180YC-FX Chassis\"\n",
      "\n",
      "  Interface VSAN      FCID                PORT NAME                NODE NAME\n",
      "0    fc1/17  200  0xee0020  21:00:00:24:ff:17:08:2e  20:00:00:24:ff:17:08:2e\n",
      "1    fc1/18  200  0xee0000  10:00:00:90:fa:dc:0f:08  20:00:00:90:fa:dc:0f:08\n",
      "2    fc1/37  200  0xee00ef  50:06:01:6a:08:60:7c:67  50:06:01:60:88:60:7c:67\n",
      "None\n",
      "Switch Name :  sw1\n",
      "Management IP : 10.127.119.84 Password : nbv_3124\n",
      "Description :  \"Nexus9000 C93360YC-FX2 Chassis\"\n",
      "\n",
      "             Interface VSAN      FCID                PORT NAME  \\\n",
      "0  san-port-channel254  200  0x010020  10:00:00:90:fa:dc:0f:09   \n",
      "\n",
      "                 NODE NAME  \n",
      "0  20:00:00:90:fa:dc:0f:09  \n",
      "None\n",
      "Switch Name :  sw2\n",
      "Management IP : 10.127.119.103 Password : nbv_3124\n",
      "Description :  \"MDS 9710 (10 Slot) Chassis\"\n",
      "\n",
      "  Interface VSAN      FCID                PORT NAME                NODE NAME\n",
      "0    fc1/48  200  0x0301ef  50:06:01:6b:08:60:7c:67  50:06:01:60:88:60:7c:67\n",
      "1    fc8/46  200  0x0300ef  50:06:01:60:08:60:7c:67  50:06:01:60:88:60:7c:67\n",
      "None\n"
     ]
    }
   ],
   "source": [
    "for device in fabric.devices:\n",
    "    device.print_details()\n",
    "    print(device.show_flogi_database(vsan = 200))"
   ]
  },
  {
   "cell_type": "code",
   "execution_count": 7,
   "metadata": {},
   "outputs": [
    {
     "name": "stdout",
     "output_type": "stream",
     "text": [
      "Fetching fc interfaces...\n",
      "fc1/1       1      auto   on      down         swl    --    --     --       \n",
      "\n",
      "fc1/2       1      auto   on      down         swl    --    --     --       \n",
      "\n",
      "fc1/3       1      auto   on      down         swl    --    --     --       \n",
      "\n",
      "fc1/4       1      auto   on      down         swl    --    --     --       \n",
      "\n",
      "fc1/5       1      auto   on      down         swl    --    --     --       \n",
      "\n",
      "fc1/6       1      auto   on      down         swl    --    --     --       \n",
      "\n",
      "fc1/7       1      auto   on      down         swl    --    --     --       \n",
      "\n",
      "fc1/8       1      auto   on      down         swl    --    --     --       \n",
      "\n",
      "fc1/9       1      auto   on      down         swl    --    --     --       \n",
      "\n",
      "fc1/10      1      auto   on      down         swl    --    --     --       \n",
      "\n",
      "fc1/11      1      auto   on      down         swl    --    --     --       \n",
      "\n",
      "fc1/12      1      auto   on      down         swl    --    --     --       \n",
      "\n",
      "fc1/13      1      auto   on      down         swl    --    --     --       \n",
      "\n",
      "fc1/14      1      auto   on      down         swl    --    --     --       \n",
      "\n",
      "fc1/15      1      auto   on      down         swl    --    --     --       \n",
      "\n",
      "fc1/16      1      auto   on      down         swl    --    --     --       \n",
      "\n",
      "fc1/17      200    F      on      up           swl   F      32     --       \n",
      "\n",
      "fc1/18      200    F      on      up           swl   F      16     --       \n",
      "\n",
      "fc1/19      1      auto   on      down         swl    --    --     --       \n",
      "\n",
      "fc1/20      1      auto   on      down         swl    --    --     --       \n",
      "\n",
      "fc1/21      1      auto   on      down         swl    --    --     --       \n",
      "\n",
      "fc1/22      1      auto   on      down         swl    --    --     --       \n",
      "\n",
      "fc1/23      1      auto   on      down         swl    --    --     --       \n",
      "\n",
      "fc1/24      1      auto   on      down         swl    --    --     --       \n",
      "\n",
      "fc1/25      1      auto   on      down         swl    --    --     --       \n",
      "\n",
      "fc1/26      1      auto   on      down         swl    --    --     --       \n",
      "\n",
      "fc1/27      1      auto   on      down         swl    --    --     --       \n",
      "\n",
      "fc1/28      1      auto   on      sfpAbsent    --     --    --     --       \n",
      "\n",
      "fc1/29      1      auto   on      down         swl    --    --     --       \n",
      "\n",
      "fc1/30      1      auto   on      down         swl    --    --     --       \n",
      "\n",
      "fc1/31      200    E      on      trunking     swl   TE     32     200      \n",
      "\n",
      "fc1/32      200    E      on      trunking     swl   TE     32     200      \n",
      "\n",
      "fc1/37      200    F      on      up           swl   F      4      --       \n",
      "\n",
      "fc1/38      1      auto   on      down         swl    --    --     --       \n",
      "\n",
      "fc1/39      1      auto   on      down         swl    --    --     --       \n",
      "\n",
      "fc1/40      1      auto   on      down         swl    --    --     --       \n",
      "\n"
     ]
    }
   ],
   "source": [
    "switch.show_int_brief_fc()"
   ]
  },
  {
   "cell_type": "code",
   "execution_count": 8,
   "metadata": {},
   "outputs": [
    {
     "name": "stdout",
     "output_type": "stream",
     "text": [
      "  Interface VSAN      FCID                PORT NAME                NODE NAME\n",
      "0    fc1/17  200  0xee0020  21:00:00:24:ff:17:08:2e  20:00:00:24:ff:17:08:2e\n",
      "1    fc1/18  200  0xee0000  10:00:00:90:fa:dc:0f:08  20:00:00:90:fa:dc:0f:08\n",
      "2    fc1/37  200  0xee00ef  50:06:01:6a:08:60:7c:67  50:06:01:60:88:60:7c:67\n"
     ]
    }
   ],
   "source": [
    "switch.show_flogi_database(vsan = 200)"
   ]
  },
  {
   "cell_type": "code",
   "execution_count": 9,
   "metadata": {},
   "outputs": [
    {
     "name": "stdout",
     "output_type": "stream",
     "text": [
      "fc1/1 <sapphire.FcInterface object at 0x7fb002547c90>\n",
      "fc1/2 <sapphire.FcInterface object at 0x7fb00252b750>\n",
      "fc1/3 <sapphire.FcInterface object at 0x7fb00252bc10>\n",
      "fc1/4 <sapphire.FcInterface object at 0x7fb00252be50>\n",
      "fc1/5 <sapphire.FcInterface object at 0x7fb00252b490>\n",
      "fc1/6 <sapphire.FcInterface object at 0x7fb002542350>\n",
      "fc1/7 <sapphire.FcInterface object at 0x7fb002542550>\n",
      "fc1/8 <sapphire.FcInterface object at 0x7fb002542d10>\n",
      "fc1/9 <sapphire.FcInterface object at 0x7fb002542b10>\n",
      "fc1/10 <sapphire.FcInterface object at 0x7fb0025501d0>\n",
      "fc1/11 <sapphire.FcInterface object at 0x7fb002550350>\n",
      "fc1/12 <sapphire.FcInterface object at 0x7fb002550b10>\n",
      "fc1/13 <sapphire.FcInterface object at 0x7fb002550c10>\n",
      "fc1/14 <sapphire.FcInterface object at 0x7fb002550dd0>\n",
      "fc1/15 <sapphire.FcInterface object at 0x7fb00253ff10>\n",
      "fc1/16 <sapphire.FcInterface object at 0x7fb00253ff50>\n",
      "fc1/17 <sapphire.FcInterface object at 0x7fb002550290>\n",
      "fc1/18 <sapphire.FcInterface object at 0x7fb002550250>\n",
      "fc1/19 <sapphire.FcInterface object at 0x7fb0025421d0>\n",
      "fc1/20 <sapphire.FcInterface object at 0x7fb00252bd50>\n",
      "fc1/21 <sapphire.FcInterface object at 0x7fb002547f90>\n",
      "fc1/22 <sapphire.FcInterface object at 0x7fb002296fd0>\n",
      "fc1/23 <sapphire.FcInterface object at 0x7fb00255e290>\n",
      "fc1/24 <sapphire.FcInterface object at 0x7fb00255e910>\n",
      "fc1/25 <sapphire.FcInterface object at 0x7fb00255efd0>\n",
      "fc1/26 <sapphire.FcInterface object at 0x7fb002533350>\n",
      "fc1/27 <sapphire.FcInterface object at 0x7fb002533690>\n",
      "fc1/28 <sapphire.FcInterface object at 0x7fb0025339d0>\n",
      "fc1/29 <sapphire.FcInterface object at 0x7fb002533d10>\n",
      "fc1/30 <sapphire.FcInterface object at 0x7fb00254a090>\n",
      "fc1/31 <sapphire.FcInterface object at 0x7fb00254a3d0>\n",
      "fc1/32 <sapphire.FcInterface object at 0x7fb00254a710>\n",
      "fc1/37 <sapphire.FcInterface object at 0x7fb0025336d0>\n",
      "fc1/38 <sapphire.FcInterface object at 0x7fb00255e890>\n",
      "fc1/39 <sapphire.FcInterface object at 0x7fb00252b850>\n",
      "fc1/40 <sapphire.FcInterface object at 0x7fb002550890>\n"
     ]
    }
   ],
   "source": [
    "for key,value in switch.fc_interface.items():\n",
    "    print(key, value)"
   ]
  },
  {
   "cell_type": "code",
   "execution_count": 10,
   "metadata": {},
   "outputs": [
    {
     "name": "stdout",
     "output_type": "stream",
     "text": [
      "client <paramiko.client.SSHClient object at 0x7fb00226a410>\n",
      "name fc1/40\n",
      "vsan 1\n",
      "admin_mode auto\n",
      "admin_trunk_mode on\n",
      "status down\n",
      "sfp swl\n",
      "oper_mode --\n",
      "oper_speed --\n",
      "port_channel --\n"
     ]
    }
   ],
   "source": [
    "switch.fc_interface['fc1/40'].show()"
   ]
  },
  {
   "cell_type": "code",
   "execution_count": 11,
   "metadata": {},
   "outputs": [
    {
     "data": {
      "text/plain": [
       "{'client': <paramiko.client.SSHClient at 0x7fb00226a410>,\n",
       " 'name': 'fc1/17',\n",
       " 'vsan': '200',\n",
       " 'admin_mode': 'F',\n",
       " 'admin_trunk_mode': 'on',\n",
       " 'status': 'up',\n",
       " 'sfp': 'swl',\n",
       " 'oper_mode': 'F',\n",
       " 'oper_speed': '32',\n",
       " 'port_channel': '--'}"
      ]
     },
     "execution_count": 11,
     "metadata": {},
     "output_type": "execute_result"
    }
   ],
   "source": [
    "switch.fc_interface['fc1/17'].__dict__"
   ]
  },
  {
   "cell_type": "code",
   "execution_count": 12,
   "metadata": {},
   "outputs": [],
   "source": [
    "#switch.fc_interface['fc1/17'].flap()"
   ]
  },
  {
   "cell_type": "code",
   "execution_count": 13,
   "metadata": {},
   "outputs": [
    {
     "name": "stdout",
     "output_type": "stream",
     "text": [
      "<paramiko.client.SSHClient object at 0x7fb00226a410> fc1/17 200 F on up swl F 32 -- "
     ]
    }
   ],
   "source": [
    "switch.fc_interface['fc1/17'].show_brief()"
   ]
  },
  {
   "cell_type": "code",
   "execution_count": 14,
   "metadata": {
    "tags": [
     "outputPrepend"
    ]
   },
   "outputs": [
    {
     "name": "stdout",
     "output_type": "stream",
     "text": [
      "Getting active zoneset info for vsan 200\n",
      "Active Zoneset : zoneset-master\n",
      "zone-1 [('pwwn', '10:00:00:90:fa:f0:78:4d'), ('fcid', '0x0301ef')]\n",
      "zone-2 [('pwwn', '10:00:00:90:fa:f0:78:4d'), ('fcid', '0x0300ef')]\n",
      "zone-5 [('fcid', '0xee0000'), ('fcid', '0x0301ef')]\n",
      "zone-6 [('fcid', '0xee0000'), ('fcid', '0x0300ef')]\n",
      "zone-3 [('fcid', '0x010020'), ('fcid', '0x0301ef')]\n",
      "zone-4 [('fcid', '0x010020'), ('fcid', '0x0300ef')]\n",
      "default-zone [('fcid', '0xee0020'), ('fcid', '0xee00ef')]\n"
     ]
    }
   ],
   "source": [
    "switch.show_zoneset_active(vsan = 200)"
   ]
  },
  {
   "cell_type": "code",
   "execution_count": 15,
   "metadata": {
    "tags": []
   },
   "outputs": [
    {
     "name": "stdout",
     "output_type": "stream",
     "text": [
      "Getting active zoneset info for vsan 200\n",
      "Active Zoneset : zoneset-master\n",
      "{'zone-1': [('pwwn', '10:00:00:90:fa:f0:78:4d'), ('fcid', '0x0301ef')], 'zone-2': [('pwwn', '10:00:00:90:fa:f0:78:4d'), ('fcid', '0x0300ef')], 'zone-5': [('fcid', '0xee0000'), ('fcid', '0x0301ef')], 'zone-6': [('fcid', '0xee0000'), ('fcid', '0x0300ef')], 'zone-3': [('fcid', '0x010020'), ('fcid', '0x0301ef')], 'zone-4': [('fcid', '0x010020'), ('fcid', '0x0300ef')], 'default-zone': [('fcid', '0xee0020'), ('fcid', '0xee00ef')]}\n"
     ]
    }
   ],
   "source": [
    "zone_dict = switch.get_zoneset_active(vsan = 200)\n",
    "print(zone_dict)"
   ]
  },
  {
   "cell_type": "code",
   "execution_count": 16,
   "metadata": {},
   "outputs": [
    {
     "data": {
      "text/html": [
       "<div>\n",
       "<style scoped>\n",
       "    .dataframe tbody tr th:only-of-type {\n",
       "        vertical-align: middle;\n",
       "    }\n",
       "\n",
       "    .dataframe tbody tr th {\n",
       "        vertical-align: top;\n",
       "    }\n",
       "\n",
       "    .dataframe thead th {\n",
       "        text-align: right;\n",
       "    }\n",
       "</style>\n",
       "<table border=\"1\" class=\"dataframe\">\n",
       "  <thead>\n",
       "    <tr style=\"text-align: right;\">\n",
       "      <th></th>\n",
       "      <th>0</th>\n",
       "      <th>1</th>\n",
       "    </tr>\n",
       "  </thead>\n",
       "  <tbody>\n",
       "    <tr>\n",
       "      <th>zone-1</th>\n",
       "      <td>(pwwn, 10:00:00:90:fa:f0:78:4d)</td>\n",
       "      <td>(fcid, 0x0301ef)</td>\n",
       "    </tr>\n",
       "    <tr>\n",
       "      <th>zone-2</th>\n",
       "      <td>(pwwn, 10:00:00:90:fa:f0:78:4d)</td>\n",
       "      <td>(fcid, 0x0300ef)</td>\n",
       "    </tr>\n",
       "    <tr>\n",
       "      <th>zone-5</th>\n",
       "      <td>(fcid, 0xee0000)</td>\n",
       "      <td>(fcid, 0x0301ef)</td>\n",
       "    </tr>\n",
       "    <tr>\n",
       "      <th>zone-6</th>\n",
       "      <td>(fcid, 0xee0000)</td>\n",
       "      <td>(fcid, 0x0300ef)</td>\n",
       "    </tr>\n",
       "    <tr>\n",
       "      <th>zone-3</th>\n",
       "      <td>(fcid, 0x010020)</td>\n",
       "      <td>(fcid, 0x0301ef)</td>\n",
       "    </tr>\n",
       "    <tr>\n",
       "      <th>zone-4</th>\n",
       "      <td>(fcid, 0x010020)</td>\n",
       "      <td>(fcid, 0x0300ef)</td>\n",
       "    </tr>\n",
       "    <tr>\n",
       "      <th>default-zone</th>\n",
       "      <td>(fcid, 0xee0020)</td>\n",
       "      <td>(fcid, 0xee00ef)</td>\n",
       "    </tr>\n",
       "  </tbody>\n",
       "</table>\n",
       "</div>"
      ],
      "text/plain": [
       "                                            0                 1\n",
       "zone-1        (pwwn, 10:00:00:90:fa:f0:78:4d)  (fcid, 0x0301ef)\n",
       "zone-2        (pwwn, 10:00:00:90:fa:f0:78:4d)  (fcid, 0x0300ef)\n",
       "zone-5                       (fcid, 0xee0000)  (fcid, 0x0301ef)\n",
       "zone-6                       (fcid, 0xee0000)  (fcid, 0x0300ef)\n",
       "zone-3                       (fcid, 0x010020)  (fcid, 0x0301ef)\n",
       "zone-4                       (fcid, 0x010020)  (fcid, 0x0300ef)\n",
       "default-zone                 (fcid, 0xee0020)  (fcid, 0xee00ef)"
      ]
     },
     "execution_count": 16,
     "metadata": {},
     "output_type": "execute_result"
    }
   ],
   "source": [
    "df = pd.DataFrame.from_dict(zone_dict, orient = 'index')\n",
    "df.head(df.shape[0])"
   ]
  },
  {
   "cell_type": "code",
   "execution_count": 17,
   "metadata": {
    "tags": []
   },
   "outputs": [
    {
     "name": "stdout",
     "output_type": "stream",
     "text": [
      "Getting fcns dattabase for vsan 200\n",
      "('0x010020', 'N', '10:00:00:90:fa:dc:0f:09', 'Emulex', 'scsi', 'fcp', ['init'])\n",
      "('0x0300ef', 'N', '50:06:01:60:08:60:7c:67', 'Clariion', 'scsi', 'fcp', [])\n",
      "('0x0301ef', 'N', '50:06:01:6b:08:60:7c:67', 'Clariion', 'scsi', 'fcp', [])\n",
      "('0xee0000', 'N', '10:00:00:90:fa:dc:0f:08', 'Emulex', 'scsi', 'fcp', ['init'])\n",
      "('0xee0020', 'N', '21:00:00:24:ff:17:08:2e', 'Qlogic', 'scsi', 'fcp', ['init'])\n",
      "('0xee00ef', 'N', '50:06:01:6a:08:60:7c:67', 'Clariion', 'scsi', 'fcp', ['both'])\n"
     ]
    }
   ],
   "source": [
    "switch.show_fcns_database(vsan = 200)"
   ]
  },
  {
   "cell_type": "code",
   "execution_count": 18,
   "metadata": {},
   "outputs": [
    {
     "name": "stdout",
     "output_type": "stream",
     "text": [
      "  Interface VSAN      FCID                PORT NAME                NODE NAME\n",
      "0    fc1/17  200  0xee0020  21:00:00:24:ff:17:08:2e  20:00:00:24:ff:17:08:2e\n",
      "1    fc1/18  200  0xee0000  10:00:00:90:fa:dc:0f:08  20:00:00:90:fa:dc:0f:08\n",
      "2    fc1/37  200  0xee00ef  50:06:01:6a:08:60:7c:67  50:06:01:60:88:60:7c:67\n"
     ]
    }
   ],
   "source": [
    "switch.show_flogi_database(vsan = 200)"
   ]
  },
  {
   "cell_type": "code",
   "execution_count": 19,
   "metadata": {},
   "outputs": [],
   "source": [
    "# See https://neo4j.com/developer/aura-connect-driver/ for Aura specific connection URL.\n",
    "scheme = \"neo4j\"  # Connecting to Aura, use the \"neo4j+s\" URI scheme\n",
    "host_name = \"localhost\"\n",
    "port = 7687\n",
    "url = \"{scheme}://{host_name}:{port}\".format(scheme=scheme, host_name=host_name, port=port)\n",
    "user = \"admin\"\n",
    "password = \"admin\"\n",
    "app = App(url, user, password)"
   ]
  },
  {
   "cell_type": "code",
   "execution_count": 20,
   "metadata": {},
   "outputs": [
    {
     "name": "stdout",
     "output_type": "stream",
     "text": [
      "Switch Name :  sw3\n",
      "Management IP : 10.127.119.98 Password : nbv_3124\n",
      "Description :  \"Nexus9000 C93180YC-FX Chassis\"\n",
      "\n"
     ]
    }
   ],
   "source": [
    "switch.print_details()"
   ]
  },
  {
   "cell_type": "code",
   "execution_count": 24,
   "metadata": {},
   "outputs": [
    {
     "name": "stdout",
     "output_type": "stream",
     "text": [
      "             Interface Peer Domain       Peer Interface Peer IP Address  \\\n",
      "0  san-port-channel200     0x01(1)  san-port-channel200   10.127.119.84   \n",
      "\n",
      "  Switch Name  \n",
      "0         sw1  \n",
      "             Interface Peer Domain       Peer Interface Peer IP Address  \\\n",
      "0  san-port-channel100     0x03(3)  san-port-channel100  10.127.119.103   \n",
      "1  san-port-channel200   0xee(238)  san-port-channel200   10.127.119.98   \n",
      "\n",
      "  Switch Name  \n",
      "0         sw2  \n",
      "1         sw3  \n",
      "         Interface Peer Domain   Peer Interface Peer IP Address Switch Name\n",
      "0  port-channel100     0x01(1)  port-channel100   10.127.119.84         sw1\n"
     ]
    }
   ],
   "source": [
    "for switch in fabric.devices:\n",
    "    switchname = switch.switchname\n",
    "    peers = switch.get_topology(vsan = 200)\n",
    "    print(peers.head())\n",
    "    for i in range(peers.shape[0]):\n",
    "        peer_switch = peers['Switch Name'][i]\n",
    "        app.create_link(switchname, peer_switch, 'E')"
   ]
  },
  {
   "cell_type": "code",
   "execution_count": 25,
   "metadata": {},
   "outputs": [
    {
     "name": "stdout",
     "output_type": "stream",
     "text": [
      "  Interface VSAN      FCID                PORT NAME                NODE NAME\n",
      "0    fc1/17  200  0xee0020  21:00:00:24:ff:17:08:2e  20:00:00:24:ff:17:08:2e\n",
      "1    fc1/18  200  0xee0000  10:00:00:90:fa:dc:0f:08  20:00:00:90:fa:dc:0f:08\n",
      "2    fc1/37  200  0xee00ef  50:06:01:6a:08:60:7c:67  50:06:01:60:88:60:7c:67\n",
      "             Interface VSAN      FCID                PORT NAME  \\\n",
      "0  san-port-channel254  200  0x010020  10:00:00:90:fa:dc:0f:09   \n",
      "\n",
      "                 NODE NAME  \n",
      "0  20:00:00:90:fa:dc:0f:09  \n",
      "  Interface VSAN      FCID                PORT NAME                NODE NAME\n",
      "0    fc1/48  200  0x0301ef  50:06:01:6b:08:60:7c:67  50:06:01:60:88:60:7c:67\n",
      "1    fc8/46  200  0x0300ef  50:06:01:60:08:60:7c:67  50:06:01:60:88:60:7c:67\n"
     ]
    }
   ],
   "source": [
    "for switch in fabric.devices:\n",
    "    switchname = switch.switchname\n",
    "    flogis = switch.get_flogi_database(vsan = 200)\n",
    "    print(flogis.head())\n",
    "    for i in range(flogis.shape[0]):\n",
    "        fcid = flogis['FCID'][i]\n",
    "        app.create_link(switchname, fcid, 'N')"
   ]
  },
  {
   "cell_type": "code",
   "execution_count": 23,
   "metadata": {},
   "outputs": [],
   "source": [
    "app.close()"
   ]
  }
 ],
 "metadata": {
  "kernelspec": {
   "display_name": "Python 3",
   "language": "python",
   "name": "python3"
  },
  "language_info": {
   "codemirror_mode": {
    "name": "ipython",
    "version": 3
   },
   "file_extension": ".py",
   "mimetype": "text/x-python",
   "name": "python",
   "nbconvert_exporter": "python",
   "pygments_lexer": "ipython3",
   "version": "3.7.4"
  }
 },
 "nbformat": 4,
 "nbformat_minor": 2
}
