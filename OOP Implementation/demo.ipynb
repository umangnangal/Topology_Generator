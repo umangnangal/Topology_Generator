{
 "cells": [
  {
   "cell_type": "code",
   "execution_count": 1,
   "metadata": {},
   "outputs": [
    {
     "name": "stdout",
     "output_type": "stream",
     "text": [
      "    Management IP  Password\n",
      "0  10.127.119.83   nbv_3124\n",
      "1  10.127.119.103  nbv_3124\n",
      "2  10.127.119.84   nbv_3124\n",
      "3  10.127.119.98   nbv_3124\n",
      "{'10.127.119.83': 'nbv_3124', '10.127.119.103': 'nbv_3124', '10.127.119.84': 'nbv_3124', '10.127.119.98': 'nbv_3124'}\n"
     ]
    }
   ],
   "source": [
    "from login import Switch,Fabric"
   ]
  },
  {
   "cell_type": "code",
   "execution_count": 2,
   "metadata": {},
   "outputs": [
    {
     "name": "stdout",
     "output_type": "stream",
     "text": [
      "Paramiko client created successfully.\n",
      "Switch object created with paramiko client in-built.\n"
     ]
    }
   ],
   "source": [
    "mgmt_ip = '10.127.119.84'\n",
    "password = 'nbv_3124'\n",
    "switch = Switch(mgmt_ip, password)"
   ]
  },
  {
   "cell_type": "code",
   "execution_count": 3,
   "metadata": {},
   "outputs": [
    {
     "name": "stdout",
     "output_type": "stream",
     "text": [
      "\n",
      "==========================\n",
      "Fabric object initialized\n",
      "==========================\n",
      "\n"
     ]
    }
   ],
   "source": [
    "fabric = Fabric(switch)"
   ]
  },
  {
   "cell_type": "code",
   "execution_count": 4,
   "metadata": {},
   "outputs": [
    {
     "name": "stdout",
     "output_type": "stream",
     "text": [
      "PEER IP = 10.127.119.103 SWITCHNAME = sw2\n",
      "Password fetched from provided file.\n",
      "Paramiko client created successfully.\n",
      "Switch object created with paramiko client in-built.\n",
      "Device succeesfully added to Fabric.\n",
      "PEER IP = 10.127.119.84 SWITCHNAME = sw1\n",
      "Password fetched from provided file.\n",
      "Paramiko client created successfully.\n",
      "Switch object created with paramiko client in-built.\n",
      "Device already present in the Fabric.\n"
     ]
    }
   ],
   "source": [
    "fabric.search_devices()"
   ]
  },
  {
   "cell_type": "code",
   "execution_count": 7,
   "metadata": {},
   "outputs": [
    {
     "name": "stdout",
     "output_type": "stream",
     "text": [
      "<login.Switch object at 0x7f825b55d450>\n",
      "Switch Name :  sw1\n",
      "Management IP : 10.127.119.84 Password : nbv_3124\n",
      "Description :  \"Nexus9000 C93360YC-FX2 Chassis\"\n",
      "\n",
      "<login.Switch object at 0x7f825baca110>\n",
      "Switch Name :  sw2\n",
      "Management IP : 10.127.119.103 Password : nbv_3124\n",
      "Description :  \"MDS 9710 (10 Slot) Chassis\"\n",
      "\n"
     ]
    }
   ],
   "source": [
    "for device in fabric.devices:\n",
    "    print(device)\n",
    "    device.print_details()"
   ]
  },
  {
   "cell_type": "code",
   "execution_count": null,
   "metadata": {},
   "outputs": [],
   "source": []
  }
 ],
 "metadata": {
  "kernelspec": {
   "display_name": "Python 3",
   "language": "python",
   "name": "python3"
  },
  "language_info": {
   "codemirror_mode": {
    "name": "ipython",
    "version": 3
   },
   "file_extension": ".py",
   "mimetype": "text/x-python",
   "name": "python",
   "nbconvert_exporter": "python",
   "pygments_lexer": "ipython3",
   "version": "3.7.4"
  }
 },
 "nbformat": 4,
 "nbformat_minor": 2
}
