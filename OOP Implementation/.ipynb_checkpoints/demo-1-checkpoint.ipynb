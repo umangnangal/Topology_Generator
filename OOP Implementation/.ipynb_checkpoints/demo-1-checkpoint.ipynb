{
 "cells": [
  {
   "cell_type": "code",
   "execution_count": 1,
   "metadata": {},
   "outputs": [
    {
     "name": "stdout",
     "output_type": "stream",
     "text": [
      "    Management IP   Password\n",
      "0   10.127.119.83   nbv_3124\n",
      "1  10.127.119.103   nbv_3124\n",
      "2   10.127.119.84   nbv_3124\n",
      "3   10.127.119.98   nbv_3124\n",
      "4  10.127.125.228  nbv_12345\n"
     ]
    }
   ],
   "source": [
    "from sapphire import *"
   ]
  },
  {
   "cell_type": "code",
   "execution_count": 2,
   "metadata": {},
   "outputs": [
    {
     "name": "stdout",
     "output_type": "stream",
     "text": [
      "Paramiko client created successfully :  <paramiko.client.SSHClient object at 0x7fad0a0e6400>\n",
      "Switch object created with paramiko client in-built.\n"
     ]
    }
   ],
   "source": [
    "mgmt_ip = '10.127.190.136'\n",
    "password = 'nbv_12345'\n",
    "\n",
    "mgmt_ip = '10.127.125.228'\n",
    "password = 'nbv_12345'\n",
    "\n",
    "mgmt_ip = '10.127.119.98'\n",
    "password = 'nbv_3124'\n",
    "\n",
    "mgmt_ip = '172.25.169.24'\n",
    "password = 'nbv_12345'\n",
    "\n",
    "mgmt_ip = '10.197.155.82'\n",
    "password = 'n'\n",
    "\n",
    "mgmt_ip = '10.127.125.219'\n",
    "\n",
    "mgmt_ip = '10.127.190.134'\n",
    "password = 'nbv_12345'\n",
    "\n",
    "switch = Switch(mgmt_ip, password)\n",
    "#vsan = int(input('Please enter the VSAN of interest : '))\n",
    "vsan = 200"
   ]
  },
  {
   "cell_type": "code",
   "execution_count": 3,
   "metadata": {},
   "outputs": [
    {
     "data": {
      "text/plain": [
       "<sapphire.Switch at 0x7fad0a0e63d0>"
      ]
     },
     "execution_count": 3,
     "metadata": {},
     "output_type": "execute_result"
    }
   ],
   "source": [
    "switch"
   ]
  },
  {
   "cell_type": "code",
   "execution_count": 4,
   "metadata": {},
   "outputs": [
    {
     "name": "stdout",
     "output_type": "stream",
     "text": [
      "Fabric object initialized\n"
     ]
    }
   ],
   "source": [
    "fabric = Fabric(switch)"
   ]
  },
  {
   "cell_type": "code",
   "execution_count": 5,
   "metadata": {},
   "outputs": [],
   "source": [
    "fabric.search_devices(vsan = vsan)"
   ]
  },
  {
   "cell_type": "code",
   "execution_count": 6,
   "metadata": {},
   "outputs": [
    {
     "name": "stdout",
     "output_type": "stream",
     "text": [
      "Switch Name :  HW-Core-2\n",
      "Management IP : 10.127.190.134 Password : nbv_12345\n",
      "Description :  \"Nexus9000 C93180YC-FX Chassis\"\n",
      "\n",
      "             Interface VSAN      FCID                PORT NAME  \\\n",
      "0               fc1/13  200  0xa100ef  50:06:01:68:3e:e0:20:f9   \n",
      "1  san-port-channel211  200  0xa10000  10:00:00:10:9b:22:5b:4d   \n",
      "2  san-port-channel211  200  0xa10021  20:00:7c:31:0e:8f:c7:c9   \n",
      "3  san-port-channel212  200  0xa10040  20:00:7c:31:0e:8f:c7:cb   \n",
      "4               vfc213  200  0xa10001  20:00:a8:b4:56:50:bc:be   \n",
      "\n",
      "                 NODE NAME  \n",
      "0  50:06:01:60:be:e0:20:f9  \n",
      "1  20:00:00:10:9b:22:5b:4d  \n",
      "2  10:00:7c:31:0e:8f:c7:c9  \n",
      "3  10:00:7c:31:0e:8f:c7:cb  \n",
      "4  10:00:a8:b4:56:50:bc:be  \n",
      "None\n"
     ]
    }
   ],
   "source": [
    "for device in fabric.devices:\n",
    "    device.print_details()\n",
    "    print(device.show_flogi_database(vsan = vsan))"
   ]
  },
  {
   "cell_type": "code",
   "execution_count": null,
   "metadata": {},
   "outputs": [],
   "source": [
    "switch.show_int_brief_fc()"
   ]
  },
  {
   "cell_type": "code",
   "execution_count": null,
   "metadata": {},
   "outputs": [],
   "source": [
    "switch.show_flogi_database(vsan = vsan)"
   ]
  },
  {
   "cell_type": "code",
   "execution_count": null,
   "metadata": {},
   "outputs": [],
   "source": [
    "for key,value in switch.fc_interface.items():\n",
    "    print(key, value)"
   ]
  },
  {
   "cell_type": "code",
   "execution_count": null,
   "metadata": {},
   "outputs": [],
   "source": [
    "switch.fc_interface['fc1/1'].show()"
   ]
  },
  {
   "cell_type": "code",
   "execution_count": null,
   "metadata": {},
   "outputs": [],
   "source": [
    "switch.fc_interface['fc1/17'].__dict__"
   ]
  },
  {
   "cell_type": "code",
   "execution_count": null,
   "metadata": {},
   "outputs": [],
   "source": [
    "#switch.fc_interface['fc1/17'].flap()"
   ]
  },
  {
   "cell_type": "code",
   "execution_count": null,
   "metadata": {},
   "outputs": [],
   "source": [
    "switch.fc_interface['fc1/17'].show_brief()"
   ]
  },
  {
   "cell_type": "code",
   "execution_count": null,
   "metadata": {
    "tags": [
     "outputPrepend"
    ]
   },
   "outputs": [],
   "source": [
    "switch.show_zoneset_active(vsan = vsan)"
   ]
  },
  {
   "cell_type": "code",
   "execution_count": null,
   "metadata": {
    "tags": []
   },
   "outputs": [],
   "source": [
    "zone_dict = switch.get_zoneset_active(vsan = vsan)\n",
    "print(zone_dict)"
   ]
  },
  {
   "cell_type": "code",
   "execution_count": null,
   "metadata": {},
   "outputs": [],
   "source": [
    "df = pd.DataFrame.from_dict(zone_dict, orient = 'index')\n",
    "df.head(df.shape[0])"
   ]
  },
  {
   "cell_type": "code",
   "execution_count": null,
   "metadata": {
    "tags": []
   },
   "outputs": [],
   "source": [
    "switch.show_fcns_database(vsan = vsan)"
   ]
  },
  {
   "cell_type": "code",
   "execution_count": null,
   "metadata": {},
   "outputs": [],
   "source": [
    "switch.show_flogi_database(vsan = vsan)"
   ]
  },
  {
   "cell_type": "code",
   "execution_count": null,
   "metadata": {},
   "outputs": [],
   "source": [
    "# See https://neo4j.com/developer/aura-connect-driver/ for Aura specific connection URL.\n",
    "scheme = \"neo4j\"  # Connecting to Aura, use the \"neo4j+s\" URI scheme\n",
    "host_name = \"localhost\"\n",
    "port = 7687\n",
    "url = \"{scheme}://{host_name}:{port}\".format(scheme=scheme, host_name=host_name, port=port)\n",
    "user = \"admin\"\n",
    "password = \"admin\"\n",
    "app = App(url, user, password)"
   ]
  },
  {
   "cell_type": "code",
   "execution_count": null,
   "metadata": {},
   "outputs": [],
   "source": [
    "for switch in fabric.devices:\n",
    "    switch.print_details()\n",
    "    if 'MDS' in switch.descr:\n",
    "        continue\n",
    "    switch.show_int_brief_fc()\n",
    "    for interface in switch.fc_interface:\n",
    "        print ('Creating ports from {0}, interface : {1}'.format(switch.switchname, interface))\n",
    "        app.create_port_node(switch.switchname, interface)\n",
    "        \n",
    "    switch.show_int_brief_vfc()\n",
    "    for interface in switch.vfc_interface:\n",
    "        print ('Creating ports from {0}, interface : {1}'.format(switch.switchname, interface))\n",
    "        app.create_port_node(switch.switchname, interface)\n",
    "        \n",
    "    switch.show_int_brief_sanpo()\n",
    "    for interface in switch.sanpo_interface:\n",
    "        print ('Creating ports from {0}, interface : {1}'.format(switch.switchname, interface))\n",
    "        app.create_port_node(switch.switchname, interface)"
   ]
  },
  {
   "cell_type": "code",
   "execution_count": null,
   "metadata": {},
   "outputs": [],
   "source": [
    "# Not supporting E links currently\n",
    "'''\n",
    "for switch in fabric.devices:\n",
    "    switchname = switch.switchname\n",
    "    print(switch.switchname, switch.mgmt_ip)\n",
    "    peers = switch.get_topology(vsan = 1000)\n",
    "    print(peers.head())\n",
    "    for i in range(peers.shape[0]):\n",
    "        peer_switch = peers['Switch Name'][i]\n",
    "        app.create_link(switchname, peer_switch, 'E')\n",
    "'''\n"
   ]
  },
  {
   "cell_type": "code",
   "execution_count": null,
   "metadata": {},
   "outputs": [],
   "source": [
    "for switch in fabric.devices:\n",
    "    switchname = switch.switchname\n",
    "    flogi_df = switch.get_flogi_database(vsan = vsan)\n",
    "    print(flogi_df.head())\n",
    "    for i in range(flogi_df.shape[0]):\n",
    "        fcid = flogi_df['FCID'][i]\n",
    "        port = flogi_df['Interface'][i]\n",
    "        switchname_port = switchname + '_' + port\n",
    "        app.create_link(switchname_port, fcid, 'N')"
   ]
  },
  {
   "cell_type": "code",
   "execution_count": null,
   "metadata": {},
   "outputs": [],
   "source": [
    "# Getting zone config\n",
    "zone_dict = switch.get_zoneset_active(vsan = vsan)\n",
    "zone_df = pd.DataFrame.from_dict(zone_dict, orient = 'index')\n",
    "\n",
    "for index, row in zone_df.iterrows(): \n",
    "    print('Iterating over devices under zone {}'.format(index))\n",
    "    concerned_ports = []\n",
    "    for i in range(len(row)):\n",
    "        if row[i][0] == 'fcid':\n",
    "            switch_port = get_switch_port(fabric, vsan, row[i][1])\n",
    "            #print(row[i][1], switch_port)\n",
    "            concerned_ports.append(switch_port)\n",
    "        elif row[i][1] == 'pwwn':\n",
    "            pass\n",
    "        elif row[i][1] == 'fwwn':\n",
    "            pass\n",
    "        elif row[i][1] == 'device-alias':\n",
    "            pass\n",
    "        elif row[i][1] == 'fcalias':\n",
    "            pass\n",
    "    \n",
    "    #Now, create links between all the devices under the same zone.\n",
    "    for i in range(len(concerned_ports)):\n",
    "        for j in range(i+1, len(concerned_ports)):\n",
    "            print('Creating virtual link between {} and {}'.format(concerned_ports[i], concerned_ports[j]))\n",
    "            app.create_link(concerned_ports[i], concerned_ports[j], 'V')\n",
    "            "
   ]
  },
  {
   "cell_type": "code",
   "execution_count": null,
   "metadata": {},
   "outputs": [],
   "source": [
    "app.close()"
   ]
  }
 ],
 "metadata": {
  "kernelspec": {
   "display_name": "Python 3",
   "language": "python",
   "name": "python3"
  },
  "language_info": {
   "codemirror_mode": {
    "name": "ipython",
    "version": 3
   },
   "file_extension": ".py",
   "mimetype": "text/x-python",
   "name": "python",
   "nbconvert_exporter": "python",
   "pygments_lexer": "ipython3",
   "version": "3.8.5"
  }
 },
 "nbformat": 4,
 "nbformat_minor": 2
}
