{
 "cells": [
  {
   "cell_type": "code",
   "execution_count": 1,
   "metadata": {},
   "outputs": [
    {
     "name": "stdout",
     "output_type": "stream",
     "text": [
      "     Management IP   Password\n",
      "0    10.127.119.83   nbv_3124\n",
      "1   10.127.119.103   nbv_3124\n",
      "2    10.127.119.84   nbv_3124\n",
      "3    10.127.119.98   nbv_3124\n",
      "4   10.127.125.228  nbv_12345\n",
      "5   10.127.125.229  nbv_12345\n",
      "6   10.127.125.230  nbv_12345\n",
      "7   10.127.125.239  nbv_12345\n",
      "8    172.25.169.24  nbv_12345\n",
      "9   172.25.169.251  nbv_12345\n",
      "10   172.25.169.12  nbv_12345\n",
      "11  172.25.169.253  nbv_12345\n",
      "12  172.25.169.250  nbv_12345\n",
      "13  172.25.169.239  nbv_12345\n",
      "{'10.127.119.83': 'nbv_3124', '10.127.119.103': 'nbv_3124', '10.127.119.84': 'nbv_3124', '10.127.119.98': 'nbv_3124', '10.127.125.228': 'nbv_12345', '10.127.125.229': 'nbv_12345', '10.127.125.230': 'nbv_12345', '10.127.125.239': 'nbv_12345', '172.25.169.24': 'nbv_12345', '172.25.169.251': 'nbv_12345', '172.25.169.12': 'nbv_12345', '172.25.169.253': 'nbv_12345', '172.25.169.250': 'nbv_12345', '172.25.169.239': 'nbv_12345'}\n"
     ]
    }
   ],
   "source": [
    "from sapphire import *"
   ]
  },
  {
   "cell_type": "code",
   "execution_count": 2,
   "metadata": {},
   "outputs": [
    {
     "name": "stdout",
     "output_type": "stream",
     "text": [
      "Paramiko client created successfully :  <paramiko.client.SSHClient object at 0x7ff833072970>\n",
      "Switch object created with paramiko client in-built.\n"
     ]
    }
   ],
   "source": [
    "mgmt_ip = '10.127.190.136'\n",
    "password = 'nbv_12345'\n",
    "\n",
    "mgmt_ip = '10.127.125.228'\n",
    "password = 'nbv_12345'\n",
    "\n",
    "mgmt_ip = '10.127.119.98'\n",
    "password = 'nbv_3124'\n",
    "\n",
    "mgmt_ip = '172.25.169.24'\n",
    "password = 'nbv_12345'\n",
    "\n",
    "switch = Switch(mgmt_ip, password)"
   ]
  },
  {
   "cell_type": "code",
   "execution_count": 3,
   "metadata": {},
   "outputs": [
    {
     "data": {
      "text/plain": [
       "<sapphire.Switch at 0x7ff833072910>"
      ]
     },
     "execution_count": 3,
     "metadata": {},
     "output_type": "execute_result"
    }
   ],
   "source": [
    "switch"
   ]
  },
  {
   "cell_type": "code",
   "execution_count": 4,
   "metadata": {},
   "outputs": [
    {
     "name": "stdout",
     "output_type": "stream",
     "text": [
      "Fabric object initialized\n"
     ]
    }
   ],
   "source": [
    "fabric = Fabric(switch)"
   ]
  },
  {
   "cell_type": "code",
   "execution_count": null,
   "metadata": {},
   "outputs": [
    {
     "name": "stdout",
     "output_type": "stream",
     "text": [
      "['fc1/30', '0x83(131)', 'fc1/48', '172.25.169.55(N5672UP-16955)']\n",
      "PEER IP = 172.25.169.55 SWITCHNAME = N5672UP-16955\n"
     ]
    }
   ],
   "source": [
    "fabric.search_devices(vsan = 1)"
   ]
  },
  {
   "cell_type": "code",
   "execution_count": null,
   "metadata": {},
   "outputs": [],
   "source": [
    "for device in fabric.devices:\n",
    "    device.print_details()\n",
    "    print(device.show_flogi_database(vsan = 101))"
   ]
  },
  {
   "cell_type": "code",
   "execution_count": null,
   "metadata": {},
   "outputs": [],
   "source": [
    "switch.show_int_brief_fc()"
   ]
  },
  {
   "cell_type": "code",
   "execution_count": null,
   "metadata": {},
   "outputs": [],
   "source": [
    "switch.show_flogi_database(vsan = 100)"
   ]
  },
  {
   "cell_type": "code",
   "execution_count": null,
   "metadata": {},
   "outputs": [],
   "source": [
    "for key,value in switch.fc_interface.items():\n",
    "    print(key, value)"
   ]
  },
  {
   "cell_type": "code",
   "execution_count": null,
   "metadata": {},
   "outputs": [],
   "source": [
    "switch.fc_interface['fc1/40'].show()"
   ]
  },
  {
   "cell_type": "code",
   "execution_count": null,
   "metadata": {},
   "outputs": [],
   "source": [
    "switch.fc_interface['fc1/17'].__dict__"
   ]
  },
  {
   "cell_type": "code",
   "execution_count": null,
   "metadata": {},
   "outputs": [],
   "source": [
    "#switch.fc_interface['fc1/17'].flap()"
   ]
  },
  {
   "cell_type": "code",
   "execution_count": null,
   "metadata": {},
   "outputs": [],
   "source": [
    "switch.fc_interface['fc1/17'].show_brief()"
   ]
  },
  {
   "cell_type": "code",
   "execution_count": null,
   "metadata": {
    "tags": [
     "outputPrepend"
    ]
   },
   "outputs": [],
   "source": [
    "switch.show_zoneset_active(vsan = 100)"
   ]
  },
  {
   "cell_type": "code",
   "execution_count": null,
   "metadata": {
    "tags": []
   },
   "outputs": [],
   "source": [
    "zone_dict = switch.get_zoneset_active(vsan = 100)\n",
    "print(zone_dict)"
   ]
  },
  {
   "cell_type": "code",
   "execution_count": null,
   "metadata": {},
   "outputs": [],
   "source": [
    "df = pd.DataFrame.from_dict(zone_dict, orient = 'index')\n",
    "df.head(df.shape[0])"
   ]
  },
  {
   "cell_type": "code",
   "execution_count": null,
   "metadata": {
    "tags": []
   },
   "outputs": [],
   "source": [
    "switch.show_fcns_database(vsan = 1)"
   ]
  },
  {
   "cell_type": "code",
   "execution_count": null,
   "metadata": {},
   "outputs": [],
   "source": [
    "switch.show_flogi_database(vsan = 101)"
   ]
  },
  {
   "cell_type": "code",
   "execution_count": null,
   "metadata": {},
   "outputs": [],
   "source": [
    "# See https://neo4j.com/developer/aura-connect-driver/ for Aura specific connection URL.\n",
    "scheme = \"neo4j\"  # Connecting to Aura, use the \"neo4j+s\" URI scheme\n",
    "host_name = \"localhost\"\n",
    "port = 7687\n",
    "url = \"{scheme}://{host_name}:{port}\".format(scheme=scheme, host_name=host_name, port=port)\n",
    "user = \"admin\"\n",
    "password = \"admin\"\n",
    "app = App(url, user, password)"
   ]
  },
  {
   "cell_type": "code",
   "execution_count": null,
   "metadata": {},
   "outputs": [],
   "source": [
    "switch.print_details()"
   ]
  },
  {
   "cell_type": "code",
   "execution_count": null,
   "metadata": {},
   "outputs": [],
   "source": [
    "for switch in fabric.devices:\n",
    "    switchname = switch.switchname\n",
    "    peers = switch.get_topology(vsan = 101)\n",
    "    print(peers.head())\n",
    "    for i in range(peers.shape[0]):\n",
    "        peer_switch = peers['Switch Name'][i]\n",
    "        app.create_link(switchname, peer_switch, 'E')"
   ]
  },
  {
   "cell_type": "code",
   "execution_count": null,
   "metadata": {},
   "outputs": [],
   "source": [
    "for switch in fabric.devices:\n",
    "    switchname = switch.switchname\n",
    "    flogis = switch.get_flogi_database(vsan = 101)\n",
    "    print(flogis.head())\n",
    "    for i in range(flogis.shape[0]):\n",
    "        fcid = flogis['FCID'][i]\n",
    "        app.create_link(switchname, fcid, 'N')"
   ]
  },
  {
   "cell_type": "code",
   "execution_count": null,
   "metadata": {},
   "outputs": [],
   "source": [
    "app.close()"
   ]
  },
  {
   "cell_type": "code",
   "execution_count": null,
   "metadata": {},
   "outputs": [],
   "source": []
  }
 ],
 "metadata": {
  "kernelspec": {
   "display_name": "Python 3",
   "language": "python",
   "name": "python3"
  },
  "language_info": {
   "codemirror_mode": {
    "name": "ipython",
    "version": 3
   },
   "file_extension": ".py",
   "mimetype": "text/x-python",
   "name": "python",
   "nbconvert_exporter": "python",
   "pygments_lexer": "ipython3",
   "version": "3.8.5"
  }
 },
 "nbformat": 4,
 "nbformat_minor": 2
}
